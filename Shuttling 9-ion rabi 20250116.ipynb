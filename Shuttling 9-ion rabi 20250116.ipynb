{
 "cells": [
  {
   "cell_type": "markdown",
   "metadata": {},
   "source": [
    "# Data fitting test for no shuttling 9-ion rabi oscillation with 300us delay"
   ]
  },
  {
   "cell_type": "code",
   "execution_count": 2,
   "metadata": {},
   "outputs": [
    {
     "name": "stdout",
     "output_type": "stream",
     "text": [
      "Datasets available: ['fit_signal', 'pmt_counts', 'pmt_counts_avg_thresholded', 'rabi_t']\n"
     ]
    },
    {
     "name": "stderr",
     "output_type": "stream",
     "text": [
      "/Users/QUBIT/Library/CloudStorage/OneDrive-Personal/UCB STUDY/Research/Multiplexing/multiplexing/lib/python3.9/site-packages/scipy/special/_orthogonal.py:133: RuntimeWarning: invalid value encountered in multiply\n",
      "  np.poly1d.__init__(self, poly.coeffs * float(kn))\n",
      "/Users/QUBIT/Library/CloudStorage/OneDrive-Personal/UCB STUDY/Research/Multiplexing/multiplexing/lib/python3.9/site-packages/scipy/special/_orthogonal.py:119: RuntimeWarning: divide by zero encountered in scalar divide\n",
      "  equiv_weights = [weights[k] / wfunc(roots[k]) for\n",
      "/Users/QUBIT/Library/CloudStorage/OneDrive-Personal/UCB STUDY/Research/Multiplexing/multiplexing/lib/python3.9/site-packages/scipy/special/_orthogonal.py:119: RuntimeWarning: invalid value encountered in scalar divide\n",
      "  equiv_weights = [weights[k] / wfunc(roots[k]) for\n"
     ]
    },
    {
     "name": "stdout",
     "output_type": "stream",
     "text": [
      "Fitted parameters:\n",
      "rabi =  0.09831967172293068\n",
      "nbar =  21.239449668623863\n",
      "nalpha =  0.9999999995777552\n"
     ]
    }
   ],
   "source": [
    "from qutip import *\n",
    "from scipy.optimize import curve_fit\n",
    "import math\n",
    "import cmath\n",
    "import timeit\n",
    "import numpy as np\n",
    "import matplotlib.pyplot as plt\n",
    "from mpl_toolkits import mplot3d\n",
    "from time import time \n",
    "from pynverse import inversefunc\n",
    "from mpl_toolkits.axisartist.axislines import SubplotZero\n",
    "import matplotlib\n",
    "import h5py as h5\n",
    "from scipy.special import laguerre\n",
    "from scipy.integrate import dblquad, quad\n",
    "import scipy\n",
    "\n",
    "# Update matplotlib settings for consistent appearance in plots\n",
    "matplotlib.rcParams.update(\n",
    "    {\"font.family\": \"STIXGeneral\",\n",
    "     \"xtick.labelsize\": 12,\n",
    "     \"xtick.direction\": \"in\",\n",
    "     \"xtick.major.pad\": 3,\n",
    "     \"xtick.top\": True,\n",
    "     \"ytick.labelsize\": 12,\n",
    "     \"ytick.direction\": \"in\",\n",
    "     \"ytick.right\": True,\n",
    "     \"axes.labelsize\": 12,\n",
    "     \"axes.labelpad\": 3,\n",
    "     \"axes.grid\": True\n",
    "    }\n",
    ")\n",
    "\n",
    "# File loading function\n",
    "def file_loading(data_path, date, index, number, x='rabi_t', y='pmt_counts_avg_thresholded', exp='RabiTimeScan'):\n",
    "    # Construct full file path\n",
    "    file_path = data_path + date + index + f\"/0000{number}-\" + exp + \".h5\"\n",
    "    # For debugging or direct file usage, you can hardcode file_path if needed.\n",
    "    # file_path = data_path  # If you directly used a fixed path\n",
    "    \n",
    "    with h5.File(file_path, \"r\") as file:\n",
    "        datasets_keys = list(file['datasets'].keys())\n",
    "        print(\"Datasets available:\", datasets_keys)\n",
    "        x_data = file['datasets'][x][:]\n",
    "        y_data = file['datasets'][y][:]\n",
    "        \n",
    "    return x_data, y_data, np.linspace(np.min(x_data), np.max(x_data), 300)\n",
    "\n",
    "\n",
    "###########################################\n",
    "# Load and preprocess the data\n",
    "###########################################\n",
    "\n",
    "n_samples = 50\n",
    "\n",
    "# Specify the data path and file details\n",
    "data_path = \"/Users/QUBIT/Library/CloudStorage/OneDrive-Personal/UCB STUDY/Research/Multiplexing/artiq_working_dir - 20240329/\"\n",
    "date = \"2024-10-27/\"\n",
    "index = \"19\"\n",
    "number = 30462\n",
    "\n",
    "# data_path = \"/Users/QUBIT/Library/CloudStorage/OneDrive-Personal/UCB STUDY/Research/Multiplexing/artiq_working_dir - 20240329/\"\n",
    "# date = \"2024-10-27/\"\n",
    "# number = 30462\n",
    "# file_path = data_path + date + f\"19/0000{number}-RabiTimeScan.h5\"\n",
    "\n",
    "rabi_t, pmt_counts_avg_thresholded, times = file_loading(data_path, date, index, number)\n",
    "rabi_t = np.array(rabi_t)  # Convert list to numpy array if not already\n",
    "pmt_counts_avg_thresholded = np.array(pmt_counts_avg_thresholded)\n",
    "\n",
    "# Remove unwanted indices if needed\n",
    "indices_to_remove = [9]\n",
    "keep_indices = np.ones(len(rabi_t), dtype=bool)  # Initially set all to True\n",
    "keep_indices[indices_to_remove] = False\n",
    "rabi_t = rabi_t[keep_indices]\n",
    "pmt_counts_avg_thresholded = pmt_counts_avg_thresholded[keep_indices]\n",
    "\n",
    "# Data re-scaling\n",
    "errorbar = (np.sqrt(pmt_counts_avg_thresholded) / np.sqrt(n_samples)) / np.max(pmt_counts_avg_thresholded)\n",
    "pmt_counts_avg_thresholded = np.max(pmt_counts_avg_thresholded) - pmt_counts_avg_thresholded\n",
    "pmt_counts_avg_thresholded = pmt_counts_avg_thresholded / np.max(pmt_counts_avg_thresholded)\n",
    "\n",
    "###########################################\n",
    "# Define the model and fit parameters\n",
    "###########################################\n",
    "\n",
    "n_ions = 9\n",
    "N = 300\n",
    "\n",
    "def pe_model_optimized(time, rabi_0_fit, nbar_fit, nalpha_fit):\n",
    "    ndisplace_fit = complex(0, np.sqrt(nalpha_fit))\n",
    "    intensity_distribution = np.array([0.96912696, 0.9844114, 0.99344862, 0.99840835, 1., 0.99840835, 0.99344862, 0.9844114, 0.96912696])\n",
    "    pe_fit = np.zeros_like(time)\n",
    "    diagonal_elements_all = np.zeros(N)\n",
    "    for k in range(len(intensity_distribution)):\n",
    "        if(k < 4):\n",
    "            eta = 0.23/np.sqrt(n_ions)    # LD parameter\n",
    "            eta_squared_laguerre_values = [laguerre(i)(eta**2) for i in range(N)]\n",
    "            inputstate_fit = displace(N, ndisplace_fit) * thermal_dm(N, nbar_fit) * displace(N, ndisplace_fit).dag()\n",
    "            diagonal_elements = np.abs(inputstate_fit.full().diagonal())\n",
    "            diagonal_elements_all += 2 * diagonal_elements\n",
    "            for i in range(N):\n",
    "                pe_fit += 2 * diagonal_elements[i] * np.sin(intensity_distribution[k] * rabi_0_fit * eta_squared_laguerre_values[i] * time)**2\n",
    "        elif(k == 4):\n",
    "            eta = 0.23/np.sqrt(n_ions)    # LD parameter\n",
    "            eta_squared_laguerre_values = [laguerre(i)(eta**2) for i in range(N)]\n",
    "            inputstate_fit = displace(N, ndisplace_fit) * thermal_dm(N, nbar_fit) * displace(N, ndisplace_fit).dag()\n",
    "            diagonal_elements = np.abs(inputstate_fit.full().diagonal())\n",
    "            diagonal_elements_all += diagonal_elements\n",
    "            for i in range(N):\n",
    "                pe_fit += diagonal_elements[i] * np.sin(intensity_distribution[k] * rabi_0_fit * eta_squared_laguerre_values[i] * time)**2\n",
    "    return pe_fit / 9, diagonal_elements_all / 9\n",
    "\n",
    "def pe_model_optimized_fitting(time, rabi_0_fit, nbar_fit, nalpha_fit):\n",
    "    ndisplace_fit = complex(0, np.sqrt(nalpha_fit))\n",
    "    intensity_distribution = np.array([0.96912696, 0.9844114, 0.99344862, 0.99840835, 1., 0.99840835, 0.99344862, 0.9844114, 0.96912696])\n",
    "    pe_fit = 0\n",
    "    diagonal_elements_all = np.zeros(N)\n",
    "    for k in range(len(intensity_distribution)):\n",
    "        if(k < 4):\n",
    "            eta = 0.23/np.sqrt(n_ions)    # LD parameter\n",
    "            eta_squared_laguerre_values = [laguerre(i)(eta**2) for i in range(N)]\n",
    "            inputstate_fit = displace(N, ndisplace_fit) * thermal_dm(N, nbar_fit) * displace(N, ndisplace_fit).dag()\n",
    "            diagonal_elements = np.abs(inputstate_fit.full().diagonal())\n",
    "            diagonal_elements_all += 2 * diagonal_elements\n",
    "            for i in range(N):\n",
    "                pe_fit += 2 * diagonal_elements[i] * np.sin(intensity_distribution[k] * rabi_0_fit * eta_squared_laguerre_values[i] * time)**2\n",
    "        elif(k == 4):\n",
    "            eta = 0.23/np.sqrt(n_ions)    # LD parameter\n",
    "            eta_squared_laguerre_values = [laguerre(i)(eta**2) for i in range(N)]\n",
    "            inputstate_fit = displace(N, ndisplace_fit) * thermal_dm(N, nbar_fit) * displace(N, ndisplace_fit).dag()\n",
    "            diagonal_elements = np.abs(inputstate_fit.full().diagonal())\n",
    "            diagonal_elements_all += diagonal_elements\n",
    "            for i in range(N):\n",
    "                pe_fit += diagonal_elements[i] * np.sin(intensity_distribution[k] * rabi_0_fit * eta_squared_laguerre_values[i] * time)**2\n",
    "    return pe_fit / 9\n",
    "\n",
    "# Wrapper for curve_fit\n",
    "def fit_model(time, rabi_0_fit, nbar_fit, nalpha_fit):\n",
    "    return pe_model_optimized_fitting(time, rabi_0_fit, nbar_fit, nalpha_fit)\n",
    "\n",
    "# Initial guesses\n",
    "initial_guess = [0.1, 30, 0.0]  # [rabi, nbar, nalpha]\n",
    "bounds = ((0.05, 0, 0), (0.15, 30, 1))  # Modified upper bound for nalpha to 5\n",
    "\n",
    "# Perform the curve fitting\n",
    "popt, pcov = curve_fit(fit_model, rabi_t, pmt_counts_avg_thresholded, p0=initial_guess, bounds=bounds)\n",
    "fitted_rabi, fitted_nbar, fitted_nalpha = popt\n",
    "\n",
    "print(\"Fitted parameters:\")\n",
    "print(\"rabi = \", fitted_rabi)\n",
    "print(\"nbar = \", fitted_nbar)\n",
    "print(\"nalpha = \", fitted_nalpha)"
   ]
  },
  {
   "cell_type": "code",
   "execution_count": 3,
   "metadata": {},
   "outputs": [
    {
     "data": {
      "image/png": "[encoded data removed]",
      "text/plain": [
       "<Figure size 283x283 with 1 Axes>"
      ]
     },
     "metadata": {},
     "output_type": "display_data"
    }
   ],
   "source": [
    "# Running simulation\n",
    "# rabi =  fitted_rabi\n",
    "rabi = fitted_rabi\n",
    "nbar =  fitted_nbar\n",
    "n_ions = 9\n",
    "N = 300\n",
    "nalpha = fitted_nalpha\n",
    "\n",
    "# You already have these lines in your code\n",
    "time = np.linspace(np.min(times), np.max(times), 200)\n",
    "\n",
    "# Running simulation for different nalpha values\n",
    "nbars = [nbar - 3, nbar, nbar + 3]\n",
    "results = []\n",
    "\n",
    "for nbar in nbars:\n",
    "    D_population, _ = pe_model_optimized(time, rabi_0_fit=rabi, nbar_fit=nbar, nalpha_fit=nalpha)\n",
    "    results.append(D_population)\n",
    "\n",
    "import os\n",
    "# Create outputs directory if it doesn't exist\n",
    "os.makedirs(\"./outputs/shuttling/\", exist_ok=True)\n",
    "\n",
    "np.save(\"./data/save_rabi_t_shuttling_static.npy\", rabi_t)\n",
    "np.save(\"./data/save_pmt_counts_avg_thresholded_shuttling_static.npy\", pmt_counts_avg_thresholded)\n",
    "np.save(\"./data/save_rabi_t_shuttling_static_simulation.npy\", time)\n",
    "np.save(\"./data/save_pmt_counts_avg_thresholded_shuttling_static_simulation.npy\", results)\n",
    "\n",
    "rabi_t = np.load(\"./data/save_rabi_t_shuttling_static.npy\")\n",
    "pmt_counts_avg_thresholded = np.load(\"./data/save_pmt_counts_avg_thresholded_shuttling_static.npy\")\n",
    "time = np.load(\"./data/save_rabi_t_shuttling_static_simulation.npy\")\n",
    "results = np.load(\"./data/save_pmt_counts_avg_thresholded_shuttling_static_simulation.npy\")\n",
    "\n",
    "# Plotting\n",
    "plt.figure(figsize=(2.83, 2.83))\n",
    "errorbar = np.sqrt(pmt_counts_avg_thresholded * (1 - pmt_counts_avg_thresholded)) / np.sqrt(n_samples)\n",
    "plt.errorbar(rabi_t[:], pmt_counts_avg_thresholded[:], yerr=errorbar[:], fmt='o', c='red', lw=2, zorder=2, label='Data')\n",
    "# plt.scatter(rabi_t[:], pmt_counts_avg_thresholded[:], c='red', s=30, zorder=2, label='Data')\n",
    "# plt.errorbar(rabi_t[:], pmt_counts_avg_thresholded[:], yerr=errorbar[:], fmt='o', c='C0', lw=1, zorder=2, label='Data')\n",
    "plt.plot(time, results[1], c='red', lw=3, zorder=3, label=f'$\\\\bar{{n}}_{{th}} = {np.average(nbars):.1f} \\\\pm {(np.average(nbars) - nbars[0]):.1f}$')\n",
    "plt.plot(time, results[0], '--', c='red', lw=0.5, zorder=1, alpha=0.1)\n",
    "plt.plot(time, results[2], '--', c='red', lw=0.5, zorder=1, alpha=0.1)\n",
    "plt.fill_between(time, results[0], results[2], color='red', alpha=0.3)\n",
    "# plt.title('9-ion rabi oscillation after half speed shuttling', fontdict={'family': 'STIXGeneral', 'size': 12})\n",
    "plt.xlabel(r'Time (µs)', fontdict={'family': 'STIXGeneral', 'size': 12})\n",
    "plt.ylabel(r'Excitation', fontdict={'family': 'STIXGeneral', 'size': 12})\n",
    "plt.ylim(-0.05, 1.05)\n",
    "plt.xlim(-10, 170)\n",
    "# plt.legend(loc='lower right')\n",
    "# plt.legend()\n",
    "plt.grid(True)\n",
    "plt.savefig('./outputs/shuttling/Rabi_9_ions_no_shuttling.pdf', format='pdf', bbox_inches='tight')\n",
    "plt.show()"
   ]
  },
  {
   "cell_type": "markdown",
   "metadata": {},
   "source": [
    "# Shuttling data with 6.00 kHz shuttling speed"
   ]
  },
  {
   "cell_type": "code",
   "execution_count": 5,
   "metadata": {},
   "outputs": [
    {
     "name": "stdout",
     "output_type": "stream",
     "text": [
      "Datasets available: ['fit_signal', 'pmt_counts', 'pmt_counts_avg_thresholded', 'rabi_t']\n"
     ]
    },
    {
     "name": "stderr",
     "output_type": "stream",
     "text": [
      "c:\\Users\\bingr\\.conda\\envs\\physics\\Lib\\site-packages\\scipy\\special\\_orthogonal.py:133: RuntimeWarning: invalid value encountered in multiply\n",
      "  np.poly1d.__init__(self, poly.coeffs * float(kn))\n",
      "c:\\Users\\bingr\\.conda\\envs\\physics\\Lib\\site-packages\\scipy\\special\\_orthogonal.py:119: RuntimeWarning: divide by zero encountered in scalar divide\n",
      "  equiv_weights = [weights[k] / wfunc(roots[k]) for\n",
      "c:\\Users\\bingr\\.conda\\envs\\physics\\Lib\\site-packages\\scipy\\special\\_orthogonal.py:119: RuntimeWarning: invalid value encountered in scalar divide\n",
      "  equiv_weights = [weights[k] / wfunc(roots[k]) for\n"
     ]
    },
    {
     "name": "stdout",
     "output_type": "stream",
     "text": [
      "Fitted parameters:\n",
      "rabi =  0.09964254838798685\n",
      "nbar =  1.999999993934203\n",
      "nalpha =  122.34406667744291\n"
     ]
    }
   ],
   "source": [
    "n_samples = 50\n",
    "\n",
    "# Specify the data path and file details\n",
    "data_path = \"/Users/QUBIT/Library/CloudStorage/OneDrive-Personal/UCB STUDY/Research/Multiplexing/artiq_working_dir - 20240329/\"\n",
    "date = \"2024-10-27/\"\n",
    "index = \"20\"\n",
    "number = 30524\n",
    "\n",
    "rabi_t, pmt_counts_avg_thresholded, times = file_loading(data_path, date, index, number)\n",
    "rabi_t = np.array(rabi_t)  # Convert list to numpy array if not already\n",
    "pmt_counts_avg_thresholded = np.array(pmt_counts_avg_thresholded)\n",
    "\n",
    "# Remove unwanted indices if needed\n",
    "indices_to_remove = [9]\n",
    "keep_indices = np.ones(len(rabi_t), dtype=bool)  # Initially set all to True\n",
    "keep_indices[indices_to_remove] = False\n",
    "rabi_t = rabi_t[keep_indices]\n",
    "pmt_counts_avg_thresholded = pmt_counts_avg_thresholded[keep_indices]\n",
    "\n",
    "# Data re-scaling\n",
    "errorbar = (np.sqrt(pmt_counts_avg_thresholded) / np.sqrt(n_samples)) / np.max(pmt_counts_avg_thresholded)\n",
    "pmt_counts_avg_thresholded = np.max(pmt_counts_avg_thresholded) - pmt_counts_avg_thresholded\n",
    "pmt_counts_avg_thresholded = pmt_counts_avg_thresholded / np.max(pmt_counts_avg_thresholded) / 1.2\n",
    "\n",
    "# Initial guesses\n",
    "# initial_guess = [0.09832203238100552, 0, 100]  # [rabi, nbar, nalpha]\n",
    "# bounds = ((0.05, 0, 0), (0.15, 30, 1))  # Modified upper bound for nalpha to 5\n",
    "bounds = ((0.09, 0, 80), (0.11, 2, 130))\n",
    "# bounds = ((0.0, 0, 0), (0.15, np.inf, np.inf))\n",
    "# Initial guess is the center of the bounds\n",
    "initial_guess = [(bounds[0][0] + bounds[1][0]) / 2, (bounds[0][1] + bounds[1][1]) / 2, (bounds[0][2] + bounds[1][2]) / 2]\n",
    "\n",
    "# Perform the curve fitting\n",
    "popt, pcov = curve_fit(fit_model, rabi_t, pmt_counts_avg_thresholded, p0=initial_guess, bounds=bounds)\n",
    "fitted_rabi, fitted_nbar, fitted_nalpha = popt\n",
    "\n",
    "print(\"Fitted parameters:\")\n",
    "print(\"rabi = \", fitted_rabi)\n",
    "print(\"nbar = \", fitted_nbar)\n",
    "print(\"nalpha = \", fitted_nalpha)"
   ]
  },
  {
   "cell_type": "code",
   "execution_count": 6,
   "metadata": {},
   "outputs": [
    {
     "name": "stderr",
     "output_type": "stream",
     "text": [
      "c:\\Users\\bingr\\.conda\\envs\\physics\\Lib\\site-packages\\qutip\\core\\states.py:528: RuntimeWarning: overflow encountered in exp\n",
      "  diags = np.exp(-beta * i)\n",
      "c:\\Users\\bingr\\.conda\\envs\\physics\\Lib\\site-packages\\qutip\\core\\states.py:529: RuntimeWarning: invalid value encountered in divide\n",
      "  diags = diags / np.sum(diags)\n"
     ]
    },
    {
     "data": {
      "image/png": "[encoded data removed]",
      "text/plain": [
       "<Figure size 283x283 with 1 Axes>"
      ]
     },
     "metadata": {},
     "output_type": "display_data"
    }
   ],
   "source": [
    "# Running simulation\n",
    "# rabi =  fitted_rabi\n",
    "rabi = fitted_rabi\n",
    "nbar =  fitted_nbar\n",
    "n_ions = 9\n",
    "N = 300\n",
    "nalpha = fitted_nalpha\n",
    "\n",
    "# You already have these lines in your code\n",
    "time = np.linspace(np.min(times), np.max(times), 200)\n",
    "\n",
    "# Running simulation for different nalpha values\n",
    "nbars = [nbar - 3, nbar, nbar + 3]\n",
    "results = []\n",
    "\n",
    "for nbar in nbars:\n",
    "    D_population, _ = pe_model_optimized(time, rabi_0_fit=rabi, nbar_fit=nbar, nalpha_fit=nalpha)\n",
    "    results.append(D_population)\n",
    "\n",
    "import os\n",
    "# Create outputs directory if it doesn't exist\n",
    "os.makedirs(\"./outputs/shuttling/\", exist_ok=True)\n",
    "\n",
    "np.save(\"./data/save_rabi_t_shuttling_static.npy\", rabi_t)\n",
    "np.save(\"./data/save_pmt_counts_avg_thresholded_shuttling_static.npy\", pmt_counts_avg_thresholded)\n",
    "np.save(\"./data/save_rabi_t_shuttling_static_simulation.npy\", time)\n",
    "np.save(\"./data/save_pmt_counts_avg_thresholded_shuttling_static_simulation.npy\", results)\n",
    "\n",
    "rabi_t = np.load(\"./data/save_rabi_t_shuttling_static.npy\")\n",
    "pmt_counts_avg_thresholded = np.load(\"./data/save_pmt_counts_avg_thresholded_shuttling_static.npy\")\n",
    "time = np.load(\"./data/save_rabi_t_shuttling_static_simulation.npy\")\n",
    "results = np.load(\"./data/save_pmt_counts_avg_thresholded_shuttling_static_simulation.npy\")\n",
    "\n",
    "# Plotting\n",
    "plt.figure(figsize=(2.83, 2.83))\n",
    "errorbar = np.sqrt(pmt_counts_avg_thresholded * (1 - pmt_counts_avg_thresholded)) / np.sqrt(n_samples)\n",
    "plt.errorbar(rabi_t[:], pmt_counts_avg_thresholded[:], yerr=errorbar[:], fmt='o', c='red', lw=2, zorder=2, label='Data')\n",
    "# plt.scatter(rabi_t[:], pmt_counts_avg_thresholded[:], c='red', s=30, zorder=2, label='Data')\n",
    "# plt.errorbar(rabi_t[:], pmt_counts_avg_thresholded[:], yerr=errorbar[:], fmt='o', c='C0', lw=1, zorder=2, label='Data')\n",
    "plt.plot(time, results[1], c='red', lw=3, zorder=3, label=f'$\\\\bar{{n}}_{{th}} = {np.average(nbars):.1f} \\\\pm {(np.average(nbars) - nbars[0]):.1f}$')\n",
    "plt.plot(time, results[0], '--', c='red', lw=0.5, zorder=1, alpha=0.1)\n",
    "plt.plot(time, results[2], '--', c='red', lw=0.5, zorder=1, alpha=0.1)\n",
    "plt.fill_between(time, results[0], results[2], color='red', alpha=0.3)\n",
    "# plt.title('9-ion rabi oscillation after half speed shuttling', fontdict={'family': 'STIXGeneral', 'size': 12})\n",
    "plt.xlabel(r'Time (µs)', fontdict={'family': 'STIXGeneral', 'size': 12})\n",
    "plt.ylabel(r'Excitation', fontdict={'family': 'STIXGeneral', 'size': 12})\n",
    "plt.ylim(-0.05, 1.05)\n",
    "plt.xlim(-10, 170)\n",
    "# plt.legend(loc='lower right')\n",
    "# plt.legend()\n",
    "plt.grid(True)\n",
    "plt.savefig('./outputs/shuttling/Rabi_9_ions_no_shuttling.pdf', format='pdf', bbox_inches='tight')\n",
    "plt.show()"
   ]
  },
  {
   "cell_type": "markdown",
   "metadata": {},
   "source": [
    "# Shuttling data with 6.02 kHz shuttling speed"
   ]
  },
  {
   "cell_type": "code",
   "execution_count": 7,
   "metadata": {},
   "outputs": [
    {
     "name": "stdout",
     "output_type": "stream",
     "text": [
      "Datasets available: ['fit_signal', 'pmt_counts', 'pmt_counts_avg_thresholded', 'rabi_t']\n"
     ]
    },
    {
     "name": "stderr",
     "output_type": "stream",
     "text": [
      "c:\\Users\\bingr\\.conda\\envs\\physics\\Lib\\site-packages\\scipy\\special\\_orthogonal.py:133: RuntimeWarning: invalid value encountered in multiply\n",
      "  np.poly1d.__init__(self, poly.coeffs * float(kn))\n",
      "c:\\Users\\bingr\\.conda\\envs\\physics\\Lib\\site-packages\\scipy\\special\\_orthogonal.py:119: RuntimeWarning: divide by zero encountered in scalar divide\n",
      "  equiv_weights = [weights[k] / wfunc(roots[k]) for\n",
      "c:\\Users\\bingr\\.conda\\envs\\physics\\Lib\\site-packages\\scipy\\special\\_orthogonal.py:119: RuntimeWarning: invalid value encountered in scalar divide\n",
      "  equiv_weights = [weights[k] / wfunc(roots[k]) for\n"
     ]
    },
    {
     "name": "stdout",
     "output_type": "stream",
     "text": [
      "Fitted parameters:\n",
      "rabi =  0.1199999999999988\n",
      "nbar =  2.999999999999962\n",
      "nalpha =  166.4967161342865\n"
     ]
    }
   ],
   "source": [
    "n_samples = 50\n",
    "\n",
    "# Specify the data path and file details\n",
    "data_path = \"/Users/QUBIT/Library/CloudStorage/OneDrive-Personal/UCB STUDY/Research/Multiplexing/artiq_working_dir - 20240329/\"\n",
    "date = \"2024-10-27/\"\n",
    "index = \"20\"\n",
    "number = 30534\n",
    "\n",
    "rabi_t, pmt_counts_avg_thresholded, times = file_loading(data_path, date, index, number)\n",
    "rabi_t = np.array(rabi_t)  # Convert list to numpy array if not already\n",
    "pmt_counts_avg_thresholded = np.array(pmt_counts_avg_thresholded)\n",
    "\n",
    "# Remove unwanted indices if needed\n",
    "indices_to_remove = [-12]  # Added 12 to the list\n",
    "keep_indices = np.ones(len(rabi_t), dtype=bool)  # Initially set all to True\n",
    "keep_indices[indices_to_remove] = False\n",
    "rabi_t = rabi_t[keep_indices]\n",
    "pmt_counts_avg_thresholded = pmt_counts_avg_thresholded[keep_indices]\n",
    "\n",
    "# Data re-scaling\n",
    "errorbar = (np.sqrt(pmt_counts_avg_thresholded) / np.sqrt(n_samples)) / np.max(pmt_counts_avg_thresholded)\n",
    "pmt_counts_avg_thresholded = np.max(pmt_counts_avg_thresholded) - pmt_counts_avg_thresholded\n",
    "pmt_counts_avg_thresholded = pmt_counts_avg_thresholded / np.max(pmt_counts_avg_thresholded) / 1.3\n",
    "\n",
    "# Initial guesses\n",
    "# initial_guess = [0.09832203238100552, 0, 100]  # [rabi, nbar, nalpha]\n",
    "# bounds = ((0.05, 0, 0), (0.15, 30, 1))  # Modified upper bound for nalpha to 5\n",
    "bounds = ((0.09, 0, 80), (0.11, 3, 200))\n",
    "# bounds = ((0.0, 0, 0), (0.15, np.inf, np.inf))\n",
    "# Initial guess is the center of the bounds\n",
    "initial_guess = [(bounds[0][0] + bounds[1][0]) / 2, (bounds[0][1] + bounds[1][1]) / 2, (bounds[0][2] + bounds[1][2]) / 2]\n",
    "\n",
    "# Perform the curve fitting\n",
    "popt, pcov = curve_fit(fit_model, rabi_t, pmt_counts_avg_thresholded, p0=initial_guess, bounds=bounds)\n",
    "fitted_rabi, fitted_nbar, fitted_nalpha = popt\n",
    "\n",
    "print(\"Fitted parameters:\")\n",
    "print(\"rabi = \", fitted_rabi)\n",
    "print(\"nbar = \", fitted_nbar)\n",
    "print(\"nalpha = \", fitted_nalpha)"
   ]
  },
  {
   "cell_type": "code",
   "execution_count": 8,
   "metadata": {},
   "outputs": [
    {
     "name": "stderr",
     "output_type": "stream",
     "text": [
      "c:\\Users\\bingr\\.conda\\envs\\physics\\Lib\\site-packages\\qutip\\core\\states.py:527: RuntimeWarning: invalid value encountered in log\n",
      "  beta = np.log(1.0 / n + 1.0)\n"
     ]
    },
    {
     "data": {
      "image/png": "[encoded data removed]",
      "text/plain": [
       "<Figure size 283x283 with 1 Axes>"
      ]
     },
     "metadata": {},
     "output_type": "display_data"
    }
   ],
   "source": [
    "# Running simulation\n",
    "# rabi =  fitted_rabi\n",
    "rabi = fitted_rabi\n",
    "nbar =  fitted_nbar\n",
    "n_ions = 9\n",
    "N = 300\n",
    "nalpha = fitted_nalpha\n",
    "\n",
    "# You already have these lines in your code\n",
    "time = np.linspace(np.min(times), np.max(times), 200)\n",
    "\n",
    "# Running simulation for different nalpha values\n",
    "nbars = [nbar - 3, nbar, nbar + 3]\n",
    "results = []\n",
    "\n",
    "for nbar in nbars:\n",
    "    D_population, _ = pe_model_optimized(time, rabi_0_fit=rabi, nbar_fit=nbar, nalpha_fit=nalpha)\n",
    "    results.append(D_population)\n",
    "\n",
    "import os\n",
    "# Create outputs directory if it doesn't exist\n",
    "os.makedirs(\"./outputs/shuttling/\", exist_ok=True)\n",
    "\n",
    "np.save(\"./data/save_rabi_t_shuttling_static.npy\", rabi_t)\n",
    "np.save(\"./data/save_pmt_counts_avg_thresholded_shuttling_static.npy\", pmt_counts_avg_thresholded)\n",
    "np.save(\"./data/save_rabi_t_shuttling_static_simulation.npy\", time)\n",
    "np.save(\"./data/save_pmt_counts_avg_thresholded_shuttling_static_simulation.npy\", results)\n",
    "\n",
    "rabi_t = np.load(\"./data/save_rabi_t_shuttling_static.npy\")\n",
    "pmt_counts_avg_thresholded = np.load(\"./data/save_pmt_counts_avg_thresholded_shuttling_static.npy\")\n",
    "time = np.load(\"./data/save_rabi_t_shuttling_static_simulation.npy\")\n",
    "results = np.load(\"./data/save_pmt_counts_avg_thresholded_shuttling_static_simulation.npy\")\n",
    "\n",
    "# Plotting\n",
    "plt.figure(figsize=(2.83, 2.83))\n",
    "errorbar = np.sqrt(pmt_counts_avg_thresholded * (1 - pmt_counts_avg_thresholded)) / np.sqrt(n_samples)\n",
    "plt.errorbar(rabi_t[:], pmt_counts_avg_thresholded[:], yerr=errorbar[:], fmt='o', c='red', lw=2, zorder=2, label='Data')\n",
    "# plt.scatter(rabi_t[:], pmt_counts_avg_thresholded[:], c='red', s=30, zorder=2, label='Data')\n",
    "# plt.errorbar(rabi_t[:], pmt_counts_avg_thresholded[:], yerr=errorbar[:], fmt='o', c='C0', lw=1, zorder=2, label='Data')\n",
    "plt.plot(time, results[1], c='red', lw=3, zorder=3, label=f'$\\\\bar{{n}}_{{th}} = {np.average(nbars):.1f} \\\\pm {(np.average(nbars) - nbars[0]):.1f}$')\n",
    "plt.plot(time, results[0], '--', c='red', lw=0.5, zorder=1, alpha=0.1)\n",
    "plt.plot(time, results[2], '--', c='red', lw=0.5, zorder=1, alpha=0.1)\n",
    "plt.fill_between(time, results[0], results[2], color='red', alpha=0.3)\n",
    "# plt.title('9-ion rabi oscillation after half speed shuttling', fontdict={'family': 'STIXGeneral', 'size': 12})\n",
    "plt.xlabel(r'Time (µs)', fontdict={'family': 'STIXGeneral', 'size': 12})\n",
    "plt.ylabel(r'Excitation', fontdict={'family': 'STIXGeneral', 'size': 12})\n",
    "plt.ylim(-0.05, 1.05)\n",
    "plt.xlim(-10, 170)\n",
    "# plt.legend(loc='lower right')\n",
    "# plt.legend()\n",
    "plt.grid(True)\n",
    "plt.savefig('./outputs/shuttling/Rabi_9_ions_no_shuttling.pdf', format='pdf', bbox_inches='tight')\n",
    "plt.show()"
   ]
  },
  {
   "cell_type": "markdown",
   "metadata": {},
   "source": [
    "# Shuttling data with 6.01 kHz shuttling speed"
   ]
  },
  {
   "cell_type": "code",
   "execution_count": 9,
   "metadata": {},
   "outputs": [
    {
     "name": "stdout",
     "output_type": "stream",
     "text": [
      "Datasets available: ['fit_signal', 'pmt_counts', 'pmt_counts_avg_thresholded', 'rabi_t']\n"
     ]
    },
    {
     "name": "stderr",
     "output_type": "stream",
     "text": [
      "c:\\Users\\bingr\\.conda\\envs\\physics\\Lib\\site-packages\\scipy\\special\\_orthogonal.py:133: RuntimeWarning: invalid value encountered in multiply\n",
      "  np.poly1d.__init__(self, poly.coeffs * float(kn))\n",
      "c:\\Users\\bingr\\.conda\\envs\\physics\\Lib\\site-packages\\scipy\\special\\_orthogonal.py:119: RuntimeWarning: divide by zero encountered in scalar divide\n",
      "  equiv_weights = [weights[k] / wfunc(roots[k]) for\n",
      "c:\\Users\\bingr\\.conda\\envs\\physics\\Lib\\site-packages\\scipy\\special\\_orthogonal.py:119: RuntimeWarning: invalid value encountered in scalar divide\n",
      "  equiv_weights = [weights[k] / wfunc(roots[k]) for\n"
     ]
    },
    {
     "name": "stdout",
     "output_type": "stream",
     "text": [
      "Fitted parameters:\n",
      "rabi =  0.10147100137496974\n",
      "nbar =  2.4999999999582383\n",
      "nalpha =  124.75619361877602\n"
     ]
    }
   ],
   "source": [
    "n_samples = 50\n",
    "\n",
    "# Specify the data path and file details\n",
    "data_path = \"/Users/QUBIT/Library/CloudStorage/OneDrive-Personal/UCB STUDY/Research/Multiplexing/artiq_working_dir - 20240329/\"\n",
    "date = \"2024-10-27/\"\n",
    "index = \"20\"\n",
    "number = 30542\n",
    "\n",
    "rabi_t, pmt_counts_avg_thresholded, times = file_loading(data_path, date, index, number)\n",
    "rabi_t = np.array(rabi_t)  # Convert list to numpy array if not already\n",
    "pmt_counts_avg_thresholded = np.array(pmt_counts_avg_thresholded)\n",
    "\n",
    "# Remove unwanted indices if needed\n",
    "indices_to_remove = [9]  # Added 12 to the list\n",
    "keep_indices = np.ones(len(rabi_t), dtype=bool)  # Initially set all to True\n",
    "keep_indices[indices_to_remove] = False\n",
    "rabi_t = rabi_t[keep_indices]\n",
    "pmt_counts_avg_thresholded = pmt_counts_avg_thresholded[keep_indices]\n",
    "\n",
    "# Data re-scaling\n",
    "errorbar = (np.sqrt(pmt_counts_avg_thresholded) / np.sqrt(n_samples)) / np.max(pmt_counts_avg_thresholded)\n",
    "pmt_counts_avg_thresholded = np.max(pmt_counts_avg_thresholded) - pmt_counts_avg_thresholded\n",
    "pmt_counts_avg_thresholded = pmt_counts_avg_thresholded / np.max(pmt_counts_avg_thresholded) / 1.2\n",
    "\n",
    "# Initial guesses\n",
    "# initial_guess = [0.09832203238100552, 0, 100]  # [rabi, nbar, nalpha]\n",
    "# bounds = ((0.05, 0, 0), (0.15, 30, 1))  # Modified upper bound for nalpha to 5\n",
    "bounds = ((0.09, 0, 80), (0.11, 2.5, 200))\n",
    "# bounds = ((0.0, 0, 0), (0.15, np.inf, np.inf))\n",
    "# Initial guess is the center of the bounds\n",
    "initial_guess = [(bounds[0][0] + bounds[1][0]) / 2, (bounds[0][1] + bounds[1][1]) / 2, (bounds[0][2] + bounds[1][2]) / 2]\n",
    "\n",
    "# Perform the curve fitting\n",
    "popt, pcov = curve_fit(fit_model, rabi_t, pmt_counts_avg_thresholded, p0=initial_guess, bounds=bounds)\n",
    "fitted_rabi, fitted_nbar, fitted_nalpha = popt\n",
    "\n",
    "print(\"Fitted parameters:\")\n",
    "print(\"rabi = \", fitted_rabi)\n",
    "print(\"nbar = \", fitted_nbar)\n",
    "print(\"nalpha = \", fitted_nalpha)"
   ]
  },
  {
   "cell_type": "code",
   "execution_count": 10,
   "metadata": {},
   "outputs": [
    {
     "name": "stderr",
     "output_type": "stream",
     "text": [
      "c:\\Users\\bingr\\.conda\\envs\\physics\\Lib\\site-packages\\scipy\\special\\_orthogonal.py:133: RuntimeWarning: invalid value encountered in multiply\n",
      "  np.poly1d.__init__(self, poly.coeffs * float(kn))\n",
      "c:\\Users\\bingr\\.conda\\envs\\physics\\Lib\\site-packages\\scipy\\special\\_orthogonal.py:119: RuntimeWarning: divide by zero encountered in scalar divide\n",
      "  equiv_weights = [weights[k] / wfunc(roots[k]) for\n",
      "c:\\Users\\bingr\\.conda\\envs\\physics\\Lib\\site-packages\\scipy\\special\\_orthogonal.py:119: RuntimeWarning: invalid value encountered in scalar divide\n",
      "  equiv_weights = [weights[k] / wfunc(roots[k]) for\n",
      "c:\\Users\\bingr\\.conda\\envs\\physics\\Lib\\site-packages\\qutip\\core\\states.py:527: RuntimeWarning: invalid value encountered in log\n",
      "  beta = np.log(1.0 / n + 1.0)\n"
     ]
    },
    {
     "data": {
      "image/png": "[encoded data removed]",
      "text/plain": [
       "<Figure size 283x283 with 1 Axes>"
      ]
     },
     "metadata": {},
     "output_type": "display_data"
    }
   ],
   "source": [
    "# Running simulation\n",
    "# rabi =  fitted_rabi\n",
    "rabi = fitted_rabi\n",
    "nbar =  fitted_nbar\n",
    "n_ions = 9\n",
    "N = 300\n",
    "nalpha = fitted_nalpha\n",
    "\n",
    "# You already have these lines in your code\n",
    "time = np.linspace(np.min(times), np.max(times), 200)\n",
    "\n",
    "# Running simulation for different nalpha values\n",
    "nbars = [nbar - 3, nbar, nbar + 3]\n",
    "results = []\n",
    "\n",
    "for nbar in nbars:\n",
    "    D_population, _ = pe_model_optimized(time, rabi_0_fit=rabi, nbar_fit=nbar, nalpha_fit=nalpha)\n",
    "    results.append(D_population)\n",
    "\n",
    "import os\n",
    "# Create outputs directory if it doesn't exist\n",
    "os.makedirs(\"./outputs/shuttling/\", exist_ok=True)\n",
    "\n",
    "np.save(\"./data/save_rabi_t_shuttling_static.npy\", rabi_t)\n",
    "np.save(\"./data/save_pmt_counts_avg_thresholded_shuttling_static.npy\", pmt_counts_avg_thresholded)\n",
    "np.save(\"./data/save_rabi_t_shuttling_static_simulation.npy\", time)\n",
    "np.save(\"./data/save_pmt_counts_avg_thresholded_shuttling_static_simulation.npy\", results)\n",
    "\n",
    "rabi_t = np.load(\"./data/save_rabi_t_shuttling_static.npy\")\n",
    "pmt_counts_avg_thresholded = np.load(\"./data/save_pmt_counts_avg_thresholded_shuttling_static.npy\")\n",
    "time = np.load(\"./data/save_rabi_t_shuttling_static_simulation.npy\")\n",
    "results = np.load(\"./data/save_pmt_counts_avg_thresholded_shuttling_static_simulation.npy\")\n",
    "\n",
    "# Plotting\n",
    "plt.figure(figsize=(2.83, 2.83))\n",
    "errorbar = np.sqrt(pmt_counts_avg_thresholded * (1 - pmt_counts_avg_thresholded)) / np.sqrt(n_samples)\n",
    "plt.errorbar(rabi_t[:], pmt_counts_avg_thresholded[:], yerr=errorbar[:], fmt='o', c='red', lw=2, zorder=2, label='Data')\n",
    "# plt.scatter(rabi_t[:], pmt_counts_avg_thresholded[:], c='red', s=30, zorder=2, label='Data')\n",
    "# plt.errorbar(rabi_t[:], pmt_counts_avg_thresholded[:], yerr=errorbar[:], fmt='o', c='C0', lw=1, zorder=2, label='Data')\n",
    "plt.plot(time, results[1], c='red', lw=3, zorder=3, label=f'$\\\\bar{{n}}_{{th}} = {np.average(nbars):.1f} \\\\pm {(np.average(nbars) - nbars[0]):.1f}$')\n",
    "plt.plot(time, results[0], '--', c='red', lw=0.5, zorder=1, alpha=0.1)\n",
    "plt.plot(time, results[2], '--', c='red', lw=0.5, zorder=1, alpha=0.1)\n",
    "plt.fill_between(time, results[0], results[2], color='red', alpha=0.3)\n",
    "# plt.title('9-ion rabi oscillation after half speed shuttling', fontdict={'family': 'STIXGeneral', 'size': 12})\n",
    "plt.xlabel(r'Time (µs)', fontdict={'family': 'STIXGeneral', 'size': 12})\n",
    "plt.ylabel(r'Excitation', fontdict={'family': 'STIXGeneral', 'size': 12})\n",
    "plt.ylim(-0.05, 1.05)\n",
    "plt.xlim(-10, 170)\n",
    "# plt.legend(loc='lower right')\n",
    "# plt.legend()\n",
    "plt.grid(True)\n",
    "plt.savefig('./outputs/shuttling/Rabi_9_ions_no_shuttling.pdf', format='pdf', bbox_inches='tight')\n",
    "plt.show()"
   ]
  },
  {
   "cell_type": "markdown",
   "metadata": {},
   "source": [
    "# Shuttling data with 6.20 kHz shuttling speed"
   ]
  },
  {
   "cell_type": "code",
   "execution_count": 11,
   "metadata": {},
   "outputs": [
    {
     "name": "stdout",
     "output_type": "stream",
     "text": [
      "Datasets available: ['fit_signal', 'pmt_counts', 'pmt_counts_avg_thresholded', 'rabi_t']\n"
     ]
    },
    {
     "name": "stderr",
     "output_type": "stream",
     "text": [
      "c:\\Users\\bingr\\.conda\\envs\\physics\\Lib\\site-packages\\scipy\\special\\_orthogonal.py:133: RuntimeWarning: invalid value encountered in multiply\n",
      "  np.poly1d.__init__(self, poly.coeffs * float(kn))\n",
      "c:\\Users\\bingr\\.conda\\envs\\physics\\Lib\\site-packages\\scipy\\special\\_orthogonal.py:119: RuntimeWarning: divide by zero encountered in scalar divide\n",
      "  equiv_weights = [weights[k] / wfunc(roots[k]) for\n",
      "c:\\Users\\bingr\\.conda\\envs\\physics\\Lib\\site-packages\\scipy\\special\\_orthogonal.py:119: RuntimeWarning: invalid value encountered in scalar divide\n",
      "  equiv_weights = [weights[k] / wfunc(roots[k]) for\n"
     ]
    },
    {
     "name": "stdout",
     "output_type": "stream",
     "text": [
      "Fitted parameters:\n",
      "rabi =  0.11999999999999193\n",
      "nbar =  0.24644548668288463\n",
      "nalpha =  182.60730811877895\n"
     ]
    }
   ],
   "source": [
    "n_samples = 50\n",
    "\n",
    "# Specify the data path and file details\n",
    "data_path = \"/Users/QUBIT/Library/CloudStorage/OneDrive-Personal/UCB STUDY/Research/Multiplexing/artiq_working_dir - 20240329/\"\n",
    "date = \"2024-10-27/\"\n",
    "index = \"20\"\n",
    "number = 30522\n",
    "\n",
    "rabi_t, pmt_counts_avg_thresholded, times = file_loading(data_path, date, index, number)\n",
    "rabi_t = np.array(rabi_t)  # Convert list to numpy array if not already\n",
    "pmt_counts_avg_thresholded = np.array(pmt_counts_avg_thresholded)\n",
    "\n",
    "# Remove unwanted indices if needed\n",
    "indices_to_remove = [9]  # Added 12 to the list\n",
    "keep_indices = np.ones(len(rabi_t), dtype=bool)  # Initially set all to True\n",
    "keep_indices[indices_to_remove] = False\n",
    "rabi_t = rabi_t[keep_indices]\n",
    "pmt_counts_avg_thresholded = pmt_counts_avg_thresholded[keep_indices]\n",
    "\n",
    "# Data re-scaling\n",
    "errorbar = (np.sqrt(pmt_counts_avg_thresholded) / np.sqrt(n_samples)) / np.max(pmt_counts_avg_thresholded)\n",
    "pmt_counts_avg_thresholded = np.max(pmt_counts_avg_thresholded) - pmt_counts_avg_thresholded\n",
    "pmt_counts_avg_thresholded = pmt_counts_avg_thresholded / np.max(pmt_counts_avg_thresholded) / 1.1\n",
    "\n",
    "# Initial guesses\n",
    "# initial_guess = [0.09832203238100552, 0, 100]  # [rabi, nbar, nalpha]\n",
    "# bounds = ((0.05, 0, 0), (0.15, 30, 1))  # Modified upper bound for nalpha to 5\n",
    "bounds = ((0.09, 0, 100), (0.11, 1, 200))\n",
    "# bounds = ((0.0, 0, 0), (0.15, np.inf, np.inf))\n",
    "# Initial guess is the center of the bounds\n",
    "initial_guess = [(bounds[0][0] + bounds[1][0]) / 2, (bounds[0][1] + bounds[1][1]) / 2, (bounds[0][2] + bounds[1][2]) / 2]\n",
    "\n",
    "# Perform the curve fitting\n",
    "popt, pcov = curve_fit(fit_model, rabi_t, pmt_counts_avg_thresholded, p0=initial_guess, bounds=bounds)\n",
    "fitted_rabi, fitted_nbar, fitted_nalpha = popt\n",
    "\n",
    "print(\"Fitted parameters:\")\n",
    "print(\"rabi = \", fitted_rabi)\n",
    "print(\"nbar = \", fitted_nbar)\n",
    "print(\"nalpha = \", fitted_nalpha)"
   ]
  },
  {
   "cell_type": "code",
   "execution_count": 12,
   "metadata": {},
   "outputs": [
    {
     "name": "stderr",
     "output_type": "stream",
     "text": [
      "c:\\Users\\bingr\\.conda\\envs\\physics\\Lib\\site-packages\\scipy\\special\\_orthogonal.py:133: RuntimeWarning: invalid value encountered in multiply\n",
      "  np.poly1d.__init__(self, poly.coeffs * float(kn))\n",
      "c:\\Users\\bingr\\.conda\\envs\\physics\\Lib\\site-packages\\scipy\\special\\_orthogonal.py:119: RuntimeWarning: divide by zero encountered in scalar divide\n",
      "  equiv_weights = [weights[k] / wfunc(roots[k]) for\n",
      "c:\\Users\\bingr\\.conda\\envs\\physics\\Lib\\site-packages\\scipy\\special\\_orthogonal.py:119: RuntimeWarning: invalid value encountered in scalar divide\n",
      "  equiv_weights = [weights[k] / wfunc(roots[k]) for\n"
     ]
    },
    {
     "data": {
      "image/png": "[encoded data removed]",
      "text/plain": [
       "<Figure size 283x283 with 1 Axes>"
      ]
     },
     "metadata": {},
     "output_type": "display_data"
    }
   ],
   "source": [
    "# Running simulation\n",
    "# rabi =  fitted_rabi\n",
    "rabi = fitted_rabi\n",
    "nbar =  fitted_nbar\n",
    "n_ions = 9\n",
    "N = 300\n",
    "nalpha = fitted_nalpha\n",
    "\n",
    "# You already have these lines in your code\n",
    "time = np.linspace(np.min(times), np.max(times), 200)\n",
    "\n",
    "# Running simulation for different nalpha values\n",
    "nbars = [nbar - 3, nbar, nbar + 3]\n",
    "results = []\n",
    "\n",
    "for nbar in nbars:\n",
    "    D_population, _ = pe_model_optimized(time, rabi_0_fit=rabi, nbar_fit=nbar, nalpha_fit=nalpha)\n",
    "    results.append(D_population)\n",
    "\n",
    "import os\n",
    "# Create outputs directory if it doesn't exist\n",
    "os.makedirs(\"./outputs/shuttling/\", exist_ok=True)\n",
    "\n",
    "np.save(\"./data/save_rabi_t_shuttling_static.npy\", rabi_t)\n",
    "np.save(\"./data/save_pmt_counts_avg_thresholded_shuttling_static.npy\", pmt_counts_avg_thresholded)\n",
    "np.save(\"./data/save_rabi_t_shuttling_static_simulation.npy\", time)\n",
    "np.save(\"./data/save_pmt_counts_avg_thresholded_shuttling_static_simulation.npy\", results)\n",
    "\n",
    "rabi_t = np.load(\"./data/save_rabi_t_shuttling_static.npy\")\n",
    "pmt_counts_avg_thresholded = np.load(\"./data/save_pmt_counts_avg_thresholded_shuttling_static.npy\")\n",
    "time = np.load(\"./data/save_rabi_t_shuttling_static_simulation.npy\")\n",
    "results = np.load(\"./data/save_pmt_counts_avg_thresholded_shuttling_static_simulation.npy\")\n",
    "\n",
    "# Plotting\n",
    "plt.figure(figsize=(2.83, 2.83))\n",
    "errorbar = np.sqrt(pmt_counts_avg_thresholded * (1 - pmt_counts_avg_thresholded)) / np.sqrt(n_samples)\n",
    "plt.errorbar(rabi_t[:], pmt_counts_avg_thresholded[:], yerr=errorbar[:], fmt='o', c='red', lw=2, zorder=2, label='Data')\n",
    "# plt.scatter(rabi_t[:], pmt_counts_avg_thresholded[:], c='red', s=30, zorder=2, label='Data')\n",
    "# plt.errorbar(rabi_t[:], pmt_counts_avg_thresholded[:], yerr=errorbar[:], fmt='o', c='C0', lw=1, zorder=2, label='Data')\n",
    "plt.plot(time, results[1], c='red', lw=3, zorder=3, label=f'$\\\\bar{{n}}_{{th}} = {np.average(nbars):.1f} \\\\pm {(np.average(nbars) - nbars[0]):.1f}$')\n",
    "plt.plot(time, results[0], '--', c='red', lw=0.5, zorder=1, alpha=0.1)\n",
    "plt.plot(time, results[2], '--', c='red', lw=0.5, zorder=1, alpha=0.1)\n",
    "# plt.fill_between(time, results[0], results[2], color='red', alpha=0.3)\n",
    "# plt.title('9-ion rabi oscillation after half speed shuttling', fontdict={'family': 'STIXGeneral', 'size': 12})\n",
    "plt.xlabel(r'Time (µs)', fontdict={'family': 'STIXGeneral', 'size': 12})\n",
    "plt.ylabel(r'Excitation', fontdict={'family': 'STIXGeneral', 'size': 12})\n",
    "plt.ylim(-0.05, 1.05)\n",
    "plt.xlim(-10, 170)\n",
    "# plt.legend(loc='lower right')\n",
    "# plt.legend()\n",
    "plt.grid(True)\n",
    "plt.savefig('./outputs/shuttling/Rabi_9_ions_no_shuttling.pdf', format='pdf', bbox_inches='tight')\n",
    "plt.show()"
   ]
  },
  {
   "cell_type": "markdown",
   "metadata": {},
   "source": [
    "# Shuttling data with 6.38 kHz shuttling speed"
   ]
  },
  {
   "cell_type": "code",
   "execution_count": 6,
   "metadata": {},
   "outputs": [],
   "source": [
    "n_ions = 9\n",
    "N = 400\n",
    "\n",
    "def pe_model_optimized(time, rabi_0_fit = rabi, nbar_fit = nbar, nalpha_fit = nalpha):\n",
    "    ndisplace_fit = complex(0, np.sqrt(nalpha_fit))\n",
    "    intensity_distribution = np.array([0.96912696, 0.9844114, 0.99344862, 0.99840835, 1., 0.99840835, 0.99344862, 0.9844114, 0.96912696])\n",
    "    pe_fit = np.zeros_like(time)\n",
    "    diagonal_elements_all = np.zeros(N)\n",
    "    for k in range(len(intensity_distribution)):\n",
    "        if(k < 4):\n",
    "            eta = 0.23/np.sqrt(n_ions)    # LD parameter\n",
    "            eta_squared_laguerre_values = [laguerre(i)(eta**2) for i in range(N)]\n",
    "            inputstate_fit = displace(N, ndisplace_fit) * thermal_dm(N, nbar_fit) * displace(N, ndisplace_fit).dag()\n",
    "            diagonal_elements = np.abs(inputstate_fit.full().diagonal())\n",
    "            diagonal_elements_all += 2 * diagonal_elements\n",
    "            for i in range(N):\n",
    "                pe_fit += 2 * diagonal_elements[i] * np.sin(intensity_distribution[k] * rabi_0_fit * eta_squared_laguerre_values[i] * time)**2\n",
    "        elif(k == 4):\n",
    "            eta = 0.23/np.sqrt(n_ions)    # LD parameter\n",
    "            eta_squared_laguerre_values = [laguerre(i)(eta**2) for i in range(N)]\n",
    "            inputstate_fit = displace(N, ndisplace_fit) * thermal_dm(N, nbar_fit) * displace(N, ndisplace_fit).dag()\n",
    "            diagonal_elements = np.abs(inputstate_fit.full().diagonal())\n",
    "            diagonal_elements_all += diagonal_elements\n",
    "            for i in range(N):\n",
    "                pe_fit += diagonal_elements[i] * np.sin(intensity_distribution[k] * rabi_0_fit * eta_squared_laguerre_values[i] * time)**2\n",
    "    return pe_fit / 9, diagonal_elements_all / 9\n",
    "\n",
    "def pe_model_optimized_fitting(time, rabi_0_fit, nbar_fit, nalpha_fit):\n",
    "    ndisplace_fit = complex(0, np.sqrt(nalpha_fit))\n",
    "    intensity_distribution = np.array([0.96912696, 0.9844114, 0.99344862, 0.99840835, 1., 0.99840835, 0.99344862, 0.9844114, 0.96912696])\n",
    "    pe_fit = 0\n",
    "    diagonal_elements_all = np.zeros(N)\n",
    "    for k in range(len(intensity_distribution)):\n",
    "        if(k < 4):\n",
    "            eta = 0.23/np.sqrt(n_ions)    # LD parameter\n",
    "            eta_squared_laguerre_values = [laguerre(i)(eta**2) for i in range(N)]\n",
    "            inputstate_fit = displace(N, ndisplace_fit) * thermal_dm(N, nbar_fit) * displace(N, ndisplace_fit).dag()\n",
    "            diagonal_elements = np.abs(inputstate_fit.full().diagonal())\n",
    "            diagonal_elements_all += 2 * diagonal_elements\n",
    "            for i in range(N):\n",
    "                pe_fit += 2 * diagonal_elements[i] * np.sin(intensity_distribution[k] * rabi_0_fit * eta_squared_laguerre_values[i] * time)**2\n",
    "        elif(k == 4):\n",
    "            eta = 0.23/np.sqrt(n_ions)    # LD parameter\n",
    "            eta_squared_laguerre_values = [laguerre(i)(eta**2) for i in range(N)]\n",
    "            inputstate_fit = displace(N, ndisplace_fit) * thermal_dm(N, nbar_fit) * displace(N, ndisplace_fit).dag()\n",
    "            diagonal_elements = np.abs(inputstate_fit.full().diagonal())\n",
    "            diagonal_elements_all += diagonal_elements\n",
    "            for i in range(N):\n",
    "                pe_fit += diagonal_elements[i] * np.sin(intensity_distribution[k] * rabi_0_fit * eta_squared_laguerre_values[i] * time)**2\n",
    "    return pe_fit / 9\n",
    "\n",
    "# Wrapper for curve_fit\n",
    "def fit_model(time, rabi_0_fit, nbar_fit, nalpha_fit):\n",
    "    return pe_model_optimized_fitting(time, rabi_0_fit, nbar_fit, nalpha_fit)"
   ]
  },
  {
   "cell_type": "code",
   "execution_count": 7,
   "metadata": {},
   "outputs": [
    {
     "name": "stdout",
     "output_type": "stream",
     "text": [
      "Datasets available: ['fit_signal', 'pmt_counts', 'pmt_counts_avg_thresholded', 'rabi_t']\n"
     ]
    },
    {
     "name": "stderr",
     "output_type": "stream",
     "text": [
      "/Users/QUBIT/Library/CloudStorage/OneDrive-Personal/UCB STUDY/Research/Multiplexing/multiplexing/lib/python3.9/site-packages/scipy/special/_orthogonal.py:133: RuntimeWarning: invalid value encountered in multiply\n",
      "  np.poly1d.__init__(self, poly.coeffs * float(kn))\n",
      "/Users/QUBIT/Library/CloudStorage/OneDrive-Personal/UCB STUDY/Research/Multiplexing/multiplexing/lib/python3.9/site-packages/scipy/special/_orthogonal.py:119: RuntimeWarning: divide by zero encountered in scalar divide\n",
      "  equiv_weights = [weights[k] / wfunc(roots[k]) for\n",
      "/Users/QUBIT/Library/CloudStorage/OneDrive-Personal/UCB STUDY/Research/Multiplexing/multiplexing/lib/python3.9/site-packages/scipy/special/_orthogonal.py:119: RuntimeWarning: invalid value encountered in scalar divide\n",
      "  equiv_weights = [weights[k] / wfunc(roots[k]) for\n",
      "/Users/QUBIT/Library/CloudStorage/OneDrive-Personal/UCB STUDY/Research/Multiplexing/multiplexing/lib/python3.9/site-packages/scipy/special/_orthogonal.py:571: RuntimeWarning: overflow encountered in multiply\n",
      "  - (n + alpha) * _ufuncs.eval_genlaguerre(n - 1, alpha, x)) / x\n",
      "/Users/QUBIT/Library/CloudStorage/OneDrive-Personal/UCB STUDY/Research/Multiplexing/multiplexing/lib/python3.9/site-packages/scipy/special/_orthogonal.py:192: RuntimeWarning: invalid value encountered in divide\n",
      "  dy /= np.exp((log_dy.max() + log_dy.min()) / 2.)\n",
      "/Users/QUBIT/Library/CloudStorage/OneDrive-Personal/UCB STUDY/Research/Multiplexing/multiplexing/lib/python3.9/site-packages/scipy/special/_orthogonal.py:193: RuntimeWarning: divide by zero encountered in divide\n",
      "  w = 1.0 / (fm * dy)\n"
     ]
    },
    {
     "name": "stdout",
     "output_type": "stream",
     "text": [
      "Fitted parameters:\n",
      "rabi =  0.19579199998431665\n",
      "nbar =  1.893232511519885e-10\n",
      "nalpha =  277.12627343641685\n"
     ]
    }
   ],
   "source": [
    "n_samples = 50\n",
    "\n",
    "# Specify the data path and file details\n",
    "data_path = \"/Users/QUBIT/Library/CloudStorage/OneDrive-Personal/UCB STUDY/Research/Multiplexing/artiq_working_dir - 20240329/\"\n",
    "date = \"2024-10-27/\"\n",
    "index = \"20\"\n",
    "number = 30516\n",
    "\n",
    "rabi_t, pmt_counts_avg_thresholded, times = file_loading(data_path, date, index, number)\n",
    "rabi_t = np.array(rabi_t)  # Convert list to numpy array if not already\n",
    "pmt_counts_avg_thresholded = np.array(pmt_counts_avg_thresholded)\n",
    "\n",
    "# Remove unwanted indices if needed\n",
    "indices_to_remove = [9]  # Added 12 to the list\n",
    "keep_indices = np.ones(len(rabi_t), dtype=bool)  # Initially set all to True\n",
    "keep_indices[indices_to_remove] = False\n",
    "rabi_t = rabi_t[keep_indices]\n",
    "pmt_counts_avg_thresholded = pmt_counts_avg_thresholded[keep_indices]\n",
    "\n",
    "# Data re-scaling\n",
    "errorbar = (np.sqrt(pmt_counts_avg_thresholded) / np.sqrt(n_samples)) / np.max(pmt_counts_avg_thresholded)\n",
    "pmt_counts_avg_thresholded = np.max(pmt_counts_avg_thresholded) - pmt_counts_avg_thresholded\n",
    "pmt_counts_avg_thresholded = pmt_counts_avg_thresholded / np.max(pmt_counts_avg_thresholded) / 1.3\n",
    "\n",
    "# Initial guesses\n",
    "# initial_guess = [0.09832203238100552, 0, 100]  # [rabi, nbar, nalpha]\n",
    "# bounds = ((0.05, 0, 0), (0.15, 30, 1))  # Modified upper bound for nalpha to 5\n",
    "bounds = ((0.09, 0, 200), (0.11, 2, 300))\n",
    "# bounds = ((0.0, 0, 0), (0.15, np.inf, np.inf))\n",
    "# Initial guess is the center of the bounds\n",
    "initial_guess = [(bounds[0][0] + bounds[1][0]) / 2, (bounds[0][1] + bounds[1][1]) / 2, (bounds[0][2] + bounds[1][2]) / 2]\n",
    "\n",
    "# Perform the curve fitting\n",
    "popt, pcov = curve_fit(fit_model, rabi_t, pmt_counts_avg_thresholded, p0=initial_guess, bounds=bounds)\n",
    "fitted_rabi, fitted_nbar, fitted_nalpha = popt\n",
    "\n",
    "print(\"Fitted parameters:\")\n",
    "print(\"rabi = \", fitted_rabi)\n",
    "print(\"nbar = \", fitted_nbar)\n",
    "print(\"nalpha = \", fitted_nalpha)"
   ]
  },
  {
   "cell_type": "code",
   "execution_count": 8,
   "metadata": {},
   "outputs": [
    {
     "data": {
      "image/png": "[encoded data removed]",
      "text/plain": [
       "<Figure size 283x283 with 1 Axes>"
      ]
     },
     "metadata": {},
     "output_type": "display_data"
    }
   ],
   "source": [
    "# Running simulation\n",
    "# rabi =  fitted_rabi\n",
    "rabi = fitted_rabi\n",
    "nbar =  fitted_nbar\n",
    "# n_ions = 9\n",
    "# N = 400\n",
    "nalpha = fitted_nalpha\n",
    "\n",
    "# You already have these lines in your code\n",
    "time = np.linspace(np.min(times), np.max(times), 200)\n",
    "\n",
    "# Running simulation for different nalpha values\n",
    "nbars = [nbar - 3, nbar, nbar + 3]\n",
    "results = []\n",
    "\n",
    "for nbar in nbars:\n",
    "    D_population, _ = pe_model_optimized(time, rabi_0_fit=rabi, nbar_fit=nbar, nalpha_fit=nalpha)\n",
    "    results.append(D_population)\n",
    "\n",
    "import os\n",
    "# Create outputs directory if it doesn't exist\n",
    "os.makedirs(\"./outputs/shuttling/\", exist_ok=True)\n",
    "\n",
    "np.save(\"./data/save_rabi_t_shuttling_static.npy\", rabi_t)\n",
    "np.save(\"./data/save_pmt_counts_avg_thresholded_shuttling_static.npy\", pmt_counts_avg_thresholded)\n",
    "np.save(\"./data/save_rabi_t_shuttling_static_simulation.npy\", time)\n",
    "np.save(\"./data/save_pmt_counts_avg_thresholded_shuttling_static_simulation.npy\", results)\n",
    "\n",
    "rabi_t = np.load(\"./data/save_rabi_t_shuttling_static.npy\")\n",
    "pmt_counts_avg_thresholded = np.load(\"./data/save_pmt_counts_avg_thresholded_shuttling_static.npy\")\n",
    "time = np.load(\"./data/save_rabi_t_shuttling_static_simulation.npy\")\n",
    "results = np.load(\"./data/save_pmt_counts_avg_thresholded_shuttling_static_simulation.npy\")\n",
    "\n",
    "# Plotting\n",
    "plt.figure(figsize=(2.83, 2.83))\n",
    "errorbar = np.sqrt(pmt_counts_avg_thresholded * (1 - pmt_counts_avg_thresholded)) / np.sqrt(n_samples)\n",
    "plt.errorbar(rabi_t[:], pmt_counts_avg_thresholded[:], yerr=errorbar[:], fmt='o', c='red', lw=2, zorder=2, label='Data')\n",
    "# plt.scatter(rabi_t[:], pmt_counts_avg_thresholded[:], c='red', s=30, zorder=2, label='Data')\n",
    "# plt.errorbar(rabi_t[:], pmt_counts_avg_thresholded[:], yerr=errorbar[:], fmt='o', c='C0', lw=1, zorder=2, label='Data')\n",
    "plt.plot(time, results[1], c='red', lw=3, zorder=3, label=f'$\\\\bar{{n}}_{{th}} = {np.average(nbars):.1f} \\\\pm {(np.average(nbars) - nbars[0]):.1f}$')\n",
    "plt.plot(time, results[0], '--', c='red', lw=0.5, zorder=1, alpha=0.1)\n",
    "plt.plot(time, results[2], '--', c='red', lw=0.5, zorder=1, alpha=0.1)\n",
    "# plt.fill_between(time, results[0], results[2], color='red', alpha=0.3)\n",
    "# plt.title('9-ion rabi oscillation after half speed shuttling', fontdict={'family': 'STIXGeneral', 'size': 12})\n",
    "plt.xlabel(r'Time (µs)', fontdict={'family': 'STIXGeneral', 'size': 12})\n",
    "plt.ylabel(r'Excitation', fontdict={'family': 'STIXGeneral', 'size': 12})\n",
    "plt.ylim(-0.05, 1.05)\n",
    "plt.xlim(-10, 170)\n",
    "# plt.legend(loc='lower right')\n",
    "# plt.legend()\n",
    "plt.grid(True)\n",
    "plt.savefig('./outputs/shuttling/Rabi_9_ions_no_shuttling.pdf', format='pdf', bbox_inches='tight')\n",
    "plt.show()"
   ]
  },
  {
   "cell_type": "markdown",
   "metadata": {},
   "source": [
    "# Shuttling data with 5.90 kHz shuttling speed"
   ]
  },
  {
   "cell_type": "code",
   "execution_count": 9,
   "metadata": {},
   "outputs": [
    {
     "name": "stdout",
     "output_type": "stream",
     "text": [
      "Datasets available: ['fit_signal', 'pmt_counts', 'pmt_counts_avg_thresholded', 'rabi_t']\n"
     ]
    },
    {
     "name": "stderr",
     "output_type": "stream",
     "text": [
      "/Users/QUBIT/Library/CloudStorage/OneDrive-Personal/UCB STUDY/Research/Multiplexing/multiplexing/lib/python3.9/site-packages/scipy/special/_orthogonal.py:133: RuntimeWarning: invalid value encountered in multiply\n",
      "  np.poly1d.__init__(self, poly.coeffs * float(kn))\n",
      "/Users/QUBIT/Library/CloudStorage/OneDrive-Personal/UCB STUDY/Research/Multiplexing/multiplexing/lib/python3.9/site-packages/scipy/special/_orthogonal.py:119: RuntimeWarning: divide by zero encountered in scalar divide\n",
      "  equiv_weights = [weights[k] / wfunc(roots[k]) for\n",
      "/Users/QUBIT/Library/CloudStorage/OneDrive-Personal/UCB STUDY/Research/Multiplexing/multiplexing/lib/python3.9/site-packages/scipy/special/_orthogonal.py:119: RuntimeWarning: invalid value encountered in scalar divide\n",
      "  equiv_weights = [weights[k] / wfunc(roots[k]) for\n",
      "/Users/QUBIT/Library/CloudStorage/OneDrive-Personal/UCB STUDY/Research/Multiplexing/multiplexing/lib/python3.9/site-packages/scipy/special/_orthogonal.py:571: RuntimeWarning: overflow encountered in multiply\n",
      "  - (n + alpha) * _ufuncs.eval_genlaguerre(n - 1, alpha, x)) / x\n",
      "/Users/QUBIT/Library/CloudStorage/OneDrive-Personal/UCB STUDY/Research/Multiplexing/multiplexing/lib/python3.9/site-packages/scipy/special/_orthogonal.py:192: RuntimeWarning: invalid value encountered in divide\n",
      "  dy /= np.exp((log_dy.max() + log_dy.min()) / 2.)\n",
      "/Users/QUBIT/Library/CloudStorage/OneDrive-Personal/UCB STUDY/Research/Multiplexing/multiplexing/lib/python3.9/site-packages/scipy/special/_orthogonal.py:193: RuntimeWarning: divide by zero encountered in divide\n",
      "  w = 1.0 / (fm * dy)\n"
     ]
    },
    {
     "name": "stdout",
     "output_type": "stream",
     "text": [
      "Fitted parameters:\n",
      "rabi =  0.14057883220983147\n",
      "nbar =  7.135256133998461e-11\n",
      "nalpha =  213.9525154036317\n"
     ]
    }
   ],
   "source": [
    "n_samples = 50\n",
    "\n",
    "# Specify the data path and file details\n",
    "data_path = \"/Users/QUBIT/Library/CloudStorage/OneDrive-Personal/UCB STUDY/Research/Multiplexing/artiq_working_dir - 20240329/\"\n",
    "date = \"2024-10-27/\"\n",
    "index = \"20\"\n",
    "number = 30528\n",
    "\n",
    "rabi_t, pmt_counts_avg_thresholded, times = file_loading(data_path, date, index, number)\n",
    "rabi_t = np.array(rabi_t)  # Convert list to numpy array if not already\n",
    "pmt_counts_avg_thresholded = np.array(pmt_counts_avg_thresholded)\n",
    "\n",
    "# Remove unwanted indices if needed\n",
    "indices_to_remove = [9]  # Added 12 to the list\n",
    "keep_indices = np.ones(len(rabi_t), dtype=bool)  # Initially set all to True\n",
    "keep_indices[indices_to_remove] = False\n",
    "rabi_t = rabi_t[keep_indices]\n",
    "pmt_counts_avg_thresholded = pmt_counts_avg_thresholded[keep_indices]\n",
    "\n",
    "# Data re-scaling\n",
    "errorbar = (np.sqrt(pmt_counts_avg_thresholded) / np.sqrt(n_samples)) / np.max(pmt_counts_avg_thresholded)\n",
    "pmt_counts_avg_thresholded = np.max(pmt_counts_avg_thresholded) - pmt_counts_avg_thresholded\n",
    "pmt_counts_avg_thresholded = pmt_counts_avg_thresholded / np.max(pmt_counts_avg_thresholded) / 1.3\n",
    "\n",
    "# Initial guesses\n",
    "# initial_guess = [0.09832203238100552, 0, 100]  # [rabi, nbar, nalpha]\n",
    "# bounds = ((0.05, 0, 0), (0.15, 30, 1))  # Modified upper bound for nalpha to 5\n",
    "bounds = ((0.09, 0, 100), (0.11, 2, 300))\n",
    "# bounds = ((0.0, 0, 0), (0.15, np.inf, np.inf))\n",
    "# Initial guess is the center of the bounds\n",
    "initial_guess = [(bounds[0][0] + bounds[1][0]) / 2, (bounds[0][1] + bounds[1][1]) / 2, (bounds[0][2] + bounds[1][2]) / 2]\n",
    "\n",
    "# Perform the curve fitting\n",
    "popt, pcov = curve_fit(fit_model, rabi_t, pmt_counts_avg_thresholded, p0=initial_guess, bounds=bounds)\n",
    "fitted_rabi, fitted_nbar, fitted_nalpha = popt\n",
    "\n",
    "print(\"Fitted parameters:\")\n",
    "print(\"rabi = \", fitted_rabi)\n",
    "print(\"nbar = \", fitted_nbar)\n",
    "print(\"nalpha = \", fitted_nalpha)"
   ]
  },
  {
   "cell_type": "code",
   "execution_count": 10,
   "metadata": {},
   "outputs": [
    {
     "data": {
      "image/png": "[encoded data removed]",
      "text/plain": [
       "<Figure size 283x283 with 1 Axes>"
      ]
     },
     "metadata": {},
     "output_type": "display_data"
    }
   ],
   "source": [
    "# Running simulation\n",
    "# rabi =  fitted_rabi\n",
    "rabi = fitted_rabi\n",
    "nbar =  fitted_nbar\n",
    "# n_ions = 9\n",
    "# N = 400\n",
    "nalpha = fitted_nalpha\n",
    "\n",
    "# You already have these lines in your code\n",
    "time = np.linspace(np.min(times), np.max(times), 200)\n",
    "\n",
    "# Running simulation for different nalpha values\n",
    "nbars = [nbar - 3, nbar, nbar + 3]\n",
    "results = []\n",
    "\n",
    "for nbar in nbars:\n",
    "    D_population, _ = pe_model_optimized(time, rabi_0_fit=rabi, nbar_fit=nbar, nalpha_fit=nalpha)\n",
    "    results.append(D_population)\n",
    "\n",
    "import os\n",
    "# Create outputs directory if it doesn't exist\n",
    "os.makedirs(\"./outputs/shuttling/\", exist_ok=True)\n",
    "\n",
    "np.save(\"./data/save_rabi_t_shuttling_static.npy\", rabi_t)\n",
    "np.save(\"./data/save_pmt_counts_avg_thresholded_shuttling_static.npy\", pmt_counts_avg_thresholded)\n",
    "np.save(\"./data/save_rabi_t_shuttling_static_simulation.npy\", time)\n",
    "np.save(\"./data/save_pmt_counts_avg_thresholded_shuttling_static_simulation.npy\", results)\n",
    "\n",
    "rabi_t = np.load(\"./data/save_rabi_t_shuttling_static.npy\")\n",
    "pmt_counts_avg_thresholded = np.load(\"./data/save_pmt_counts_avg_thresholded_shuttling_static.npy\")\n",
    "time = np.load(\"./data/save_rabi_t_shuttling_static_simulation.npy\")\n",
    "results = np.load(\"./data/save_pmt_counts_avg_thresholded_shuttling_static_simulation.npy\")\n",
    "\n",
    "# Plotting\n",
    "plt.figure(figsize=(2.83, 2.83))\n",
    "errorbar = np.sqrt(pmt_counts_avg_thresholded * (1 - pmt_counts_avg_thresholded)) / np.sqrt(n_samples)\n",
    "plt.errorbar(rabi_t[:], pmt_counts_avg_thresholded[:], yerr=errorbar[:], fmt='o', c='red', lw=2, zorder=2, label='Data')\n",
    "# plt.scatter(rabi_t[:], pmt_counts_avg_thresholded[:], c='red', s=30, zorder=2, label='Data')\n",
    "# plt.errorbar(rabi_t[:], pmt_counts_avg_thresholded[:], yerr=errorbar[:], fmt='o', c='C0', lw=1, zorder=2, label='Data')\n",
    "plt.plot(time, results[1], c='red', lw=3, zorder=3, label=f'$\\\\bar{{n}}_{{th}} = {np.average(nbars):.1f} \\\\pm {(np.average(nbars) - nbars[0]):.1f}$')\n",
    "plt.plot(time, results[0], '--', c='red', lw=0.5, zorder=1, alpha=0.1)\n",
    "plt.plot(time, results[2], '--', c='red', lw=0.5, zorder=1, alpha=0.1)\n",
    "# plt.fill_between(time, results[0], results[2], color='red', alpha=0.3)\n",
    "# plt.title('9-ion rabi oscillation after half speed shuttling', fontdict={'family': 'STIXGeneral', 'size': 12})\n",
    "plt.xlabel(r'Time (µs)', fontdict={'family': 'STIXGeneral', 'size': 12})\n",
    "plt.ylabel(r'Excitation', fontdict={'family': 'STIXGeneral', 'size': 12})\n",
    "plt.ylim(-0.05, 1.05)\n",
    "plt.xlim(-10, 170)\n",
    "# plt.legend(loc='lower right')\n",
    "# plt.legend()\n",
    "plt.grid(True)\n",
    "plt.savefig('./outputs/shuttling/Rabi_9_ions_no_shuttling.pdf', format='pdf', bbox_inches='tight')\n",
    "plt.show()"
   ]
  },
  {
   "cell_type": "markdown",
   "metadata": {},
   "source": [
    "# Shuttling data with 4.80 kHz shuttling speed"
   ]
  },
  {
   "cell_type": "code",
   "execution_count": 35,
   "metadata": {},
   "outputs": [
    {
     "name": "stdout",
     "output_type": "stream",
     "text": [
      "Datasets available: ['fit_signal', 'pmt_counts', 'pmt_counts_avg_thresholded', 'rabi_t']\n"
     ]
    },
    {
     "name": "stderr",
     "output_type": "stream",
     "text": [
      "/Users/QUBIT/Library/CloudStorage/OneDrive-Personal/UCB STUDY/Research/Multiplexing/multiplexing/lib/python3.9/site-packages/scipy/special/_orthogonal.py:133: RuntimeWarning: invalid value encountered in multiply\n",
      "  np.poly1d.__init__(self, poly.coeffs * float(kn))\n",
      "/Users/QUBIT/Library/CloudStorage/OneDrive-Personal/UCB STUDY/Research/Multiplexing/multiplexing/lib/python3.9/site-packages/scipy/special/_orthogonal.py:119: RuntimeWarning: divide by zero encountered in scalar divide\n",
      "  equiv_weights = [weights[k] / wfunc(roots[k]) for\n",
      "/Users/QUBIT/Library/CloudStorage/OneDrive-Personal/UCB STUDY/Research/Multiplexing/multiplexing/lib/python3.9/site-packages/scipy/special/_orthogonal.py:119: RuntimeWarning: invalid value encountered in scalar divide\n",
      "  equiv_weights = [weights[k] / wfunc(roots[k]) for\n",
      "/Users/QUBIT/Library/CloudStorage/OneDrive-Personal/UCB STUDY/Research/Multiplexing/multiplexing/lib/python3.9/site-packages/scipy/special/_orthogonal.py:571: RuntimeWarning: overflow encountered in multiply\n",
      "  - (n + alpha) * _ufuncs.eval_genlaguerre(n - 1, alpha, x)) / x\n",
      "/Users/QUBIT/Library/CloudStorage/OneDrive-Personal/UCB STUDY/Research/Multiplexing/multiplexing/lib/python3.9/site-packages/scipy/special/_orthogonal.py:192: RuntimeWarning: invalid value encountered in divide\n",
      "  dy /= np.exp((log_dy.max() + log_dy.min()) / 2.)\n",
      "/Users/QUBIT/Library/CloudStorage/OneDrive-Personal/UCB STUDY/Research/Multiplexing/multiplexing/lib/python3.9/site-packages/scipy/special/_orthogonal.py:193: RuntimeWarning: divide by zero encountered in divide\n",
      "  w = 1.0 / (fm * dy)\n"
     ]
    },
    {
     "name": "stdout",
     "output_type": "stream",
     "text": [
      "Fitted parameters:\n",
      "rabi =  0.10999999999459224\n",
      "nbar =  1.4931904886376721\n",
      "nalpha =  175.6580421450941\n"
     ]
    }
   ],
   "source": [
    "n_samples = 50\n",
    "\n",
    "# Specify the data path and file details\n",
    "data_path = \"/Users/QUBIT/Library/CloudStorage/OneDrive-Personal/UCB STUDY/Research/Multiplexing/artiq_working_dir - 20240329/\"\n",
    "date = \"2024-10-27/\"\n",
    "index = \"20\"\n",
    "number = 30574\n",
    "\n",
    "rabi_t, pmt_counts_avg_thresholded, times = file_loading(data_path, date, index, number)\n",
    "rabi_t = np.array(rabi_t)  # Convert list to numpy array if not already\n",
    "pmt_counts_avg_thresholded = np.array(pmt_counts_avg_thresholded)\n",
    "\n",
    "# Remove unwanted indices if needed\n",
    "indices_to_remove = []  # Added 12 to the list\n",
    "keep_indices = np.ones(len(rabi_t), dtype=bool)  # Initially set all to True\n",
    "keep_indices[indices_to_remove] = False\n",
    "rabi_t = rabi_t[keep_indices]\n",
    "pmt_counts_avg_thresholded = pmt_counts_avg_thresholded[keep_indices]\n",
    "\n",
    "# Data re-scaling\n",
    "errorbar = (np.sqrt(pmt_counts_avg_thresholded) / np.sqrt(n_samples)) / np.max(pmt_counts_avg_thresholded)\n",
    "pmt_counts_avg_thresholded = np.max(pmt_counts_avg_thresholded) - pmt_counts_avg_thresholded\n",
    "pmt_counts_avg_thresholded = pmt_counts_avg_thresholded / np.max(pmt_counts_avg_thresholded) / 1.3\n",
    "\n",
    "# Initial guesses\n",
    "# initial_guess = [0.09832203238100552, 0, 100]  # [rabi, nbar, nalpha]\n",
    "# bounds = ((0.05, 0, 0), (0.15, 30, 1))  # Modified upper bound for nalpha to 5\n",
    "bounds = ((0.09, 0, 10), (0.11, 30, 300))\n",
    "# bounds = ((0.0, 0, 0), (0.15, np.inf, np.inf))\n",
    "# Initial guess is the center of the bounds\n",
    "initial_guess = [(bounds[0][0] + bounds[1][0]) / 2, (bounds[0][1] + bounds[1][1]) / 2, (bounds[0][2] + bounds[1][2]) / 2]\n",
    "\n",
    "# Perform the curve fitting\n",
    "popt, pcov = curve_fit(fit_model, rabi_t, pmt_counts_avg_thresholded, p0=initial_guess, bounds=bounds)\n",
    "fitted_rabi, fitted_nbar, fitted_nalpha = popt\n",
    "\n",
    "print(\"Fitted parameters:\")\n",
    "print(\"rabi = \", fitted_rabi)\n",
    "print(\"nbar = \", fitted_nbar)\n",
    "print(\"nalpha = \", fitted_nalpha)"
   ]
  },
  {
   "cell_type": "code",
   "execution_count": 36,
   "metadata": {},
   "outputs": [
    {
     "data": {
      "image/png": "[encoded data removed]",
      "text/plain": [
       "<Figure size 283x283 with 1 Axes>"
      ]
     },
     "metadata": {},
     "output_type": "display_data"
    }
   ],
   "source": [
    "# Running simulation\n",
    "# rabi =  fitted_rabi\n",
    "rabi = fitted_rabi\n",
    "nbar =  fitted_nbar\n",
    "# n_ions = 9\n",
    "# N = 400\n",
    "nalpha = fitted_nalpha\n",
    "\n",
    "# You already have these lines in your code\n",
    "time = np.linspace(np.min(times), np.max(times), 200)\n",
    "\n",
    "# Running simulation for different nalpha values\n",
    "nbars = [nbar - 3, nbar, nbar + 3]\n",
    "results = []\n",
    "\n",
    "for nbar in nbars:\n",
    "    D_population, _ = pe_model_optimized(time, rabi_0_fit=rabi, nbar_fit=nbar, nalpha_fit=nalpha)\n",
    "    results.append(D_population)\n",
    "\n",
    "import os\n",
    "# Create outputs directory if it doesn't exist\n",
    "os.makedirs(\"./outputs/shuttling/\", exist_ok=True)\n",
    "\n",
    "np.save(\"./data/save_rabi_t_shuttling_static.npy\", rabi_t)\n",
    "np.save(\"./data/save_pmt_counts_avg_thresholded_shuttling_static.npy\", pmt_counts_avg_thresholded)\n",
    "np.save(\"./data/save_rabi_t_shuttling_static_simulation.npy\", time)\n",
    "np.save(\"./data/save_pmt_counts_avg_thresholded_shuttling_static_simulation.npy\", results)\n",
    "\n",
    "rabi_t = np.load(\"./data/save_rabi_t_shuttling_static.npy\")\n",
    "pmt_counts_avg_thresholded = np.load(\"./data/save_pmt_counts_avg_thresholded_shuttling_static.npy\")\n",
    "time = np.load(\"./data/save_rabi_t_shuttling_static_simulation.npy\")\n",
    "results = np.load(\"./data/save_pmt_counts_avg_thresholded_shuttling_static_simulation.npy\")\n",
    "\n",
    "# Plotting\n",
    "plt.figure(figsize=(2.83, 2.83))\n",
    "errorbar = np.sqrt(pmt_counts_avg_thresholded * (1 - pmt_counts_avg_thresholded)) / np.sqrt(n_samples)\n",
    "plt.errorbar(rabi_t[:], pmt_counts_avg_thresholded[:], yerr=errorbar[:], fmt='o', c='red', lw=2, zorder=2, label='Data')\n",
    "# plt.scatter(rabi_t[:], pmt_counts_avg_thresholded[:], c='red', s=30, zorder=2, label='Data')\n",
    "# plt.errorbar(rabi_t[:], pmt_counts_avg_thresholded[:], yerr=errorbar[:], fmt='o', c='C0', lw=1, zorder=2, label='Data')\n",
    "plt.plot(time, results[1], c='red', lw=3, zorder=3, label=f'$\\\\bar{{n}}_{{th}} = {np.average(nbars):.1f} \\\\pm {(np.average(nbars) - nbars[0]):.1f}$')\n",
    "plt.plot(time, results[0], '--', c='red', lw=0.5, zorder=1, alpha=0.1)\n",
    "plt.plot(time, results[2], '--', c='red', lw=0.5, zorder=1, alpha=0.1)\n",
    "# plt.fill_between(time, results[0], results[2], color='red', alpha=0.3)\n",
    "# plt.title('9-ion rabi oscillation after half speed shuttling', fontdict={'family': 'STIXGeneral', 'size': 12})\n",
    "plt.xlabel(r'Time (µs)', fontdict={'family': 'STIXGeneral', 'size': 12})\n",
    "plt.ylabel(r'Excitation', fontdict={'family': 'STIXGeneral', 'size': 12})\n",
    "plt.ylim(-0.05, 1.05)\n",
    "plt.xlim(-10, 170)\n",
    "# plt.legend(loc='lower right')\n",
    "# plt.legend()\n",
    "plt.grid(True)\n",
    "plt.savefig('./outputs/shuttling/Rabi_9_ions_no_shuttling.pdf', format='pdf', bbox_inches='tight')\n",
    "plt.show()"
   ]
  },
  {
   "cell_type": "markdown",
   "metadata": {},
   "source": [
    "# Shuttling data with 4.763 kHz shuttling speed"
   ]
  },
  {
   "cell_type": "code",
   "execution_count": 37,
   "metadata": {},
   "outputs": [
    {
     "name": "stdout",
     "output_type": "stream",
     "text": [
      "Datasets available: ['fit_signal', 'pmt_counts', 'pmt_counts_avg_thresholded', 'rabi_t']\n"
     ]
    },
    {
     "name": "stderr",
     "output_type": "stream",
     "text": [
      "/Users/QUBIT/Library/CloudStorage/OneDrive-Personal/UCB STUDY/Research/Multiplexing/multiplexing/lib/python3.9/site-packages/scipy/special/_orthogonal.py:133: RuntimeWarning: invalid value encountered in multiply\n",
      "  np.poly1d.__init__(self, poly.coeffs * float(kn))\n",
      "/Users/QUBIT/Library/CloudStorage/OneDrive-Personal/UCB STUDY/Research/Multiplexing/multiplexing/lib/python3.9/site-packages/scipy/special/_orthogonal.py:119: RuntimeWarning: divide by zero encountered in scalar divide\n",
      "  equiv_weights = [weights[k] / wfunc(roots[k]) for\n",
      "/Users/QUBIT/Library/CloudStorage/OneDrive-Personal/UCB STUDY/Research/Multiplexing/multiplexing/lib/python3.9/site-packages/scipy/special/_orthogonal.py:119: RuntimeWarning: invalid value encountered in scalar divide\n",
      "  equiv_weights = [weights[k] / wfunc(roots[k]) for\n",
      "/Users/QUBIT/Library/CloudStorage/OneDrive-Personal/UCB STUDY/Research/Multiplexing/multiplexing/lib/python3.9/site-packages/scipy/special/_orthogonal.py:571: RuntimeWarning: overflow encountered in multiply\n",
      "  - (n + alpha) * _ufuncs.eval_genlaguerre(n - 1, alpha, x)) / x\n",
      "/Users/QUBIT/Library/CloudStorage/OneDrive-Personal/UCB STUDY/Research/Multiplexing/multiplexing/lib/python3.9/site-packages/scipy/special/_orthogonal.py:192: RuntimeWarning: invalid value encountered in divide\n",
      "  dy /= np.exp((log_dy.max() + log_dy.min()) / 2.)\n",
      "/Users/QUBIT/Library/CloudStorage/OneDrive-Personal/UCB STUDY/Research/Multiplexing/multiplexing/lib/python3.9/site-packages/scipy/special/_orthogonal.py:193: RuntimeWarning: divide by zero encountered in divide\n",
      "  w = 1.0 / (fm * dy)\n"
     ]
    },
    {
     "name": "stdout",
     "output_type": "stream",
     "text": [
      "Fitted parameters:\n",
      "rabi =  0.09000000000000001\n",
      "nbar =  3.358927415040481\n",
      "nalpha =  122.03011096610992\n"
     ]
    }
   ],
   "source": [
    "n_samples = 50\n",
    "\n",
    "# Specify the data path and file details\n",
    "data_path = \"/Users/QUBIT/Library/CloudStorage/OneDrive-Personal/UCB STUDY/Research/Multiplexing/artiq_working_dir - 20240329/\"\n",
    "date = \"2024-10-27/\"\n",
    "index = \"19\"\n",
    "number = 30424\n",
    "\n",
    "rabi_t, pmt_counts_avg_thresholded, times = file_loading(data_path, date, index, number)\n",
    "rabi_t = np.array(rabi_t)  # Convert list to numpy array if not already\n",
    "pmt_counts_avg_thresholded = np.array(pmt_counts_avg_thresholded)\n",
    "\n",
    "# Remove unwanted indices if needed\n",
    "indices_to_remove = [9]  # Added 12 to the list\n",
    "keep_indices = np.ones(len(rabi_t), dtype=bool)  # Initially set all to True\n",
    "keep_indices[indices_to_remove] = False\n",
    "rabi_t = rabi_t[keep_indices]\n",
    "pmt_counts_avg_thresholded = pmt_counts_avg_thresholded[keep_indices]\n",
    "\n",
    "# Data re-scaling\n",
    "errorbar = (np.sqrt(pmt_counts_avg_thresholded) / np.sqrt(n_samples)) / np.max(pmt_counts_avg_thresholded)\n",
    "pmt_counts_avg_thresholded = np.max(pmt_counts_avg_thresholded) - pmt_counts_avg_thresholded\n",
    "pmt_counts_avg_thresholded = pmt_counts_avg_thresholded / np.max(pmt_counts_avg_thresholded) / 1.3\n",
    "\n",
    "# Initial guesses\n",
    "# initial_guess = [0.09832203238100552, 0, 100]  # [rabi, nbar, nalpha]\n",
    "# bounds = ((0.05, 0, 0), (0.15, 30, 1))  # Modified upper bound for nalpha to 5\n",
    "bounds = ((0.09, 0, 10), (0.11, 30, 300))\n",
    "# bounds = ((0.0, 0, 0), (0.15, np.inf, np.inf))\n",
    "# Initial guess is the center of the bounds\n",
    "initial_guess = [(bounds[0][0] + bounds[1][0]) / 2, (bounds[0][1] + bounds[1][1]) / 2, (bounds[0][2] + bounds[1][2]) / 2]\n",
    "\n",
    "# Perform the curve fitting\n",
    "popt, pcov = curve_fit(fit_model, rabi_t, pmt_counts_avg_thresholded, p0=initial_guess, bounds=bounds)\n",
    "fitted_rabi, fitted_nbar, fitted_nalpha = popt\n",
    "\n",
    "print(\"Fitted parameters:\")\n",
    "print(\"rabi = \", fitted_rabi)\n",
    "print(\"nbar = \", fitted_nbar)\n",
    "print(\"nalpha = \", fitted_nalpha)"
   ]
  },
  {
   "cell_type": "code",
   "execution_count": 38,
   "metadata": {},
   "outputs": [
    {
     "data": {
      "image/png": "[encoded data removed]",
      "text/plain": [
       "<Figure size 283x283 with 1 Axes>"
      ]
     },
     "metadata": {},
     "output_type": "display_data"
    }
   ],
   "source": [
    "# Running simulation\n",
    "# rabi =  fitted_rabi\n",
    "rabi = fitted_rabi\n",
    "nbar =  fitted_nbar\n",
    "# n_ions = 9\n",
    "# N = 400\n",
    "nalpha = fitted_nalpha\n",
    "\n",
    "# You already have these lines in your code\n",
    "time = np.linspace(np.min(times), np.max(times), 200)\n",
    "\n",
    "# Running simulation for different nalpha values\n",
    "nbars = [nbar - 3, nbar, nbar + 3]\n",
    "results = []\n",
    "\n",
    "for nbar in nbars:\n",
    "    D_population, _ = pe_model_optimized(time, rabi_0_fit=rabi, nbar_fit=nbar, nalpha_fit=nalpha)\n",
    "    results.append(D_population)\n",
    "\n",
    "import os\n",
    "# Create outputs directory if it doesn't exist\n",
    "os.makedirs(\"./outputs/shuttling/\", exist_ok=True)\n",
    "\n",
    "np.save(\"./data/save_rabi_t_shuttling_static.npy\", rabi_t)\n",
    "np.save(\"./data/save_pmt_counts_avg_thresholded_shuttling_static.npy\", pmt_counts_avg_thresholded)\n",
    "np.save(\"./data/save_rabi_t_shuttling_static_simulation.npy\", time)\n",
    "np.save(\"./data/save_pmt_counts_avg_thresholded_shuttling_static_simulation.npy\", results)\n",
    "\n",
    "rabi_t = np.load(\"./data/save_rabi_t_shuttling_static.npy\")\n",
    "pmt_counts_avg_thresholded = np.load(\"./data/save_pmt_counts_avg_thresholded_shuttling_static.npy\")\n",
    "time = np.load(\"./data/save_rabi_t_shuttling_static_simulation.npy\")\n",
    "results = np.load(\"./data/save_pmt_counts_avg_thresholded_shuttling_static_simulation.npy\")\n",
    "\n",
    "# Plotting\n",
    "plt.figure(figsize=(2.83, 2.83))\n",
    "errorbar = np.sqrt(pmt_counts_avg_thresholded * (1 - pmt_counts_avg_thresholded)) / np.sqrt(n_samples)\n",
    "plt.errorbar(rabi_t[:], pmt_counts_avg_thresholded[:], yerr=errorbar[:], fmt='o', c='red', lw=2, zorder=2, label='Data')\n",
    "# plt.scatter(rabi_t[:], pmt_counts_avg_thresholded[:], c='red', s=30, zorder=2, label='Data')\n",
    "# plt.errorbar(rabi_t[:], pmt_counts_avg_thresholded[:], yerr=errorbar[:], fmt='o', c='C0', lw=1, zorder=2, label='Data')\n",
    "plt.plot(time, results[1], c='red', lw=3, zorder=3, label=f'$\\\\bar{{n}}_{{th}} = {np.average(nbars):.1f} \\\\pm {(np.average(nbars) - nbars[0]):.1f}$')\n",
    "plt.plot(time, results[0], '--', c='red', lw=0.5, zorder=1, alpha=0.1)\n",
    "plt.plot(time, results[2], '--', c='red', lw=0.5, zorder=1, alpha=0.1)\n",
    "# plt.fill_between(time, results[0], results[2], color='red', alpha=0.3)\n",
    "# plt.title('9-ion rabi oscillation after half speed shuttling', fontdict={'family': 'STIXGeneral', 'size': 12})\n",
    "plt.xlabel(r'Time (µs)', fontdict={'family': 'STIXGeneral', 'size': 12})\n",
    "plt.ylabel(r'Excitation', fontdict={'family': 'STIXGeneral', 'size': 12})\n",
    "plt.ylim(-0.05, 1.05)\n",
    "plt.xlim(-10, 170)\n",
    "# plt.legend(loc='lower right')\n",
    "# plt.legend()\n",
    "plt.grid(True)\n",
    "plt.savefig('./outputs/shuttling/Rabi_9_ions_no_shuttling.pdf', format='pdf', bbox_inches='tight')\n",
    "plt.show()"
   ]
  },
  {
   "cell_type": "markdown",
   "metadata": {},
   "source": [
    "# Shuttling data with 4.762 kHz shuttling speed"
   ]
  },
  {
   "cell_type": "code",
   "execution_count": 39,
   "metadata": {},
   "outputs": [
    {
     "name": "stdout",
     "output_type": "stream",
     "text": [
      "Datasets available: ['fit_signal', 'pmt_counts', 'pmt_counts_avg_thresholded', 'rabi_t']\n"
     ]
    },
    {
     "name": "stderr",
     "output_type": "stream",
     "text": [
      "/Users/QUBIT/Library/CloudStorage/OneDrive-Personal/UCB STUDY/Research/Multiplexing/multiplexing/lib/python3.9/site-packages/scipy/special/_orthogonal.py:133: RuntimeWarning: invalid value encountered in multiply\n",
      "  np.poly1d.__init__(self, poly.coeffs * float(kn))\n",
      "/Users/QUBIT/Library/CloudStorage/OneDrive-Personal/UCB STUDY/Research/Multiplexing/multiplexing/lib/python3.9/site-packages/scipy/special/_orthogonal.py:119: RuntimeWarning: divide by zero encountered in scalar divide\n",
      "  equiv_weights = [weights[k] / wfunc(roots[k]) for\n",
      "/Users/QUBIT/Library/CloudStorage/OneDrive-Personal/UCB STUDY/Research/Multiplexing/multiplexing/lib/python3.9/site-packages/scipy/special/_orthogonal.py:119: RuntimeWarning: invalid value encountered in scalar divide\n",
      "  equiv_weights = [weights[k] / wfunc(roots[k]) for\n",
      "/Users/QUBIT/Library/CloudStorage/OneDrive-Personal/UCB STUDY/Research/Multiplexing/multiplexing/lib/python3.9/site-packages/scipy/special/_orthogonal.py:571: RuntimeWarning: overflow encountered in multiply\n",
      "  - (n + alpha) * _ufuncs.eval_genlaguerre(n - 1, alpha, x)) / x\n",
      "/Users/QUBIT/Library/CloudStorage/OneDrive-Personal/UCB STUDY/Research/Multiplexing/multiplexing/lib/python3.9/site-packages/scipy/special/_orthogonal.py:192: RuntimeWarning: invalid value encountered in divide\n",
      "  dy /= np.exp((log_dy.max() + log_dy.min()) / 2.)\n",
      "/Users/QUBIT/Library/CloudStorage/OneDrive-Personal/UCB STUDY/Research/Multiplexing/multiplexing/lib/python3.9/site-packages/scipy/special/_orthogonal.py:193: RuntimeWarning: divide by zero encountered in divide\n",
      "  w = 1.0 / (fm * dy)\n"
     ]
    },
    {
     "name": "stdout",
     "output_type": "stream",
     "text": [
      "Fitted parameters:\n",
      "rabi =  0.09000000000000001\n",
      "nbar =  2.2785340035464827\n",
      "nalpha =  123.65452969534654\n"
     ]
    }
   ],
   "source": [
    "n_samples = 50\n",
    "\n",
    "# Specify the data path and file details\n",
    "data_path = \"/Users/QUBIT/Library/CloudStorage/OneDrive-Personal/UCB STUDY/Research/Multiplexing/artiq_working_dir - 20240329/\"\n",
    "date = \"2024-10-27/\"\n",
    "index = \"19\"\n",
    "number = 30412\n",
    "\n",
    "rabi_t, pmt_counts_avg_thresholded, times = file_loading(data_path, date, index, number)\n",
    "rabi_t = np.array(rabi_t)  # Convert list to numpy array if not already\n",
    "pmt_counts_avg_thresholded = np.array(pmt_counts_avg_thresholded)\n",
    "\n",
    "# Remove unwanted indices if needed\n",
    "indices_to_remove = [-7, -8, -9]  # Added 12 to the list\n",
    "keep_indices = np.ones(len(rabi_t), dtype=bool)  # Initially set all to True\n",
    "keep_indices[indices_to_remove] = False\n",
    "rabi_t = rabi_t[keep_indices]\n",
    "pmt_counts_avg_thresholded = pmt_counts_avg_thresholded[keep_indices]\n",
    "\n",
    "# Data re-scaling\n",
    "errorbar = (np.sqrt(pmt_counts_avg_thresholded) / np.sqrt(n_samples)) / np.max(pmt_counts_avg_thresholded)\n",
    "pmt_counts_avg_thresholded = np.max(pmt_counts_avg_thresholded) - pmt_counts_avg_thresholded\n",
    "pmt_counts_avg_thresholded = pmt_counts_avg_thresholded / np.max(pmt_counts_avg_thresholded) / 1.3\n",
    "\n",
    "# Initial guesses\n",
    "# initial_guess = [0.09832203238100552, 0, 100]  # [rabi, nbar, nalpha]\n",
    "# bounds = ((0.05, 0, 0), (0.15, 30, 1))  # Modified upper bound for nalpha to 5\n",
    "bounds = ((0.09, 0, 10), (0.11, 30, 300))\n",
    "# bounds = ((0.0, 0, 0), (0.15, np.inf, np.inf))\n",
    "# Initial guess is the center of the bounds\n",
    "initial_guess = [(bounds[0][0] + bounds[1][0]) / 2, (bounds[0][1] + bounds[1][1]) / 2, (bounds[0][2] + bounds[1][2]) / 2]\n",
    "\n",
    "# Perform the curve fitting\n",
    "popt, pcov = curve_fit(fit_model, rabi_t, pmt_counts_avg_thresholded, p0=initial_guess, bounds=bounds)\n",
    "fitted_rabi, fitted_nbar, fitted_nalpha = popt\n",
    "\n",
    "print(\"Fitted parameters:\")\n",
    "print(\"rabi = \", fitted_rabi)\n",
    "print(\"nbar = \", fitted_nbar)\n",
    "print(\"nalpha = \", fitted_nalpha)"
   ]
  },
  {
   "cell_type": "code",
   "execution_count": 40,
   "metadata": {},
   "outputs": [
    {
     "name": "stderr",
     "output_type": "stream",
     "text": [
      "/Users/QUBIT/Library/CloudStorage/OneDrive-Personal/UCB STUDY/Research/Multiplexing/multiplexing/lib/python3.9/site-packages/qutip/core/states.py:486: RuntimeWarning: invalid value encountered in log\n",
      "  beta = np.log(1.0 / n + 1.0)\n"
     ]
    },
    {
     "data": {
      "image/png": "[encoded data removed]",
      "text/plain": [
       "<Figure size 283x283 with 1 Axes>"
      ]
     },
     "metadata": {},
     "output_type": "display_data"
    }
   ],
   "source": [
    "# Running simulation\n",
    "# rabi =  fitted_rabi\n",
    "rabi = fitted_rabi\n",
    "nbar =  fitted_nbar\n",
    "# n_ions = 9\n",
    "# N = 400\n",
    "nalpha = fitted_nalpha\n",
    "\n",
    "# You already have these lines in your code\n",
    "time = np.linspace(np.min(times), np.max(times), 200)\n",
    "\n",
    "# Running simulation for different nalpha values\n",
    "nbars = [nbar - 3, nbar, nbar + 3]\n",
    "results = []\n",
    "\n",
    "for nbar in nbars:\n",
    "    D_population, _ = pe_model_optimized(time, rabi_0_fit=rabi, nbar_fit=nbar, nalpha_fit=nalpha)\n",
    "    results.append(D_population)\n",
    "\n",
    "import os\n",
    "# Create outputs directory if it doesn't exist\n",
    "os.makedirs(\"./outputs/shuttling/\", exist_ok=True)\n",
    "\n",
    "np.save(\"./data/save_rabi_t_shuttling_static.npy\", rabi_t)\n",
    "np.save(\"./data/save_pmt_counts_avg_thresholded_shuttling_static.npy\", pmt_counts_avg_thresholded)\n",
    "np.save(\"./data/save_rabi_t_shuttling_static_simulation.npy\", time)\n",
    "np.save(\"./data/save_pmt_counts_avg_thresholded_shuttling_static_simulation.npy\", results)\n",
    "\n",
    "rabi_t = np.load(\"./data/save_rabi_t_shuttling_static.npy\")\n",
    "pmt_counts_avg_thresholded = np.load(\"./data/save_pmt_counts_avg_thresholded_shuttling_static.npy\")\n",
    "time = np.load(\"./data/save_rabi_t_shuttling_static_simulation.npy\")\n",
    "results = np.load(\"./data/save_pmt_counts_avg_thresholded_shuttling_static_simulation.npy\")\n",
    "\n",
    "# Plotting\n",
    "plt.figure(figsize=(2.83, 2.83))\n",
    "errorbar = np.sqrt(pmt_counts_avg_thresholded * (1 - pmt_counts_avg_thresholded)) / np.sqrt(n_samples)\n",
    "plt.errorbar(rabi_t[:], pmt_counts_avg_thresholded[:], yerr=errorbar[:], fmt='o', c='red', lw=2, zorder=2, label='Data')\n",
    "# plt.scatter(rabi_t[:], pmt_counts_avg_thresholded[:], c='red', s=30, zorder=2, label='Data')\n",
    "# plt.errorbar(rabi_t[:], pmt_counts_avg_thresholded[:], yerr=errorbar[:], fmt='o', c='C0', lw=1, zorder=2, label='Data')\n",
    "plt.plot(time, results[1], c='red', lw=3, zorder=3, label=f'$\\\\bar{{n}}_{{th}} = {np.average(nbars):.1f} \\\\pm {(np.average(nbars) - nbars[0]):.1f}$')\n",
    "plt.plot(time, results[0], '--', c='red', lw=0.5, zorder=1, alpha=0.1)\n",
    "plt.plot(time, results[2], '--', c='red', lw=0.5, zorder=1, alpha=0.1)\n",
    "# plt.fill_between(time, results[0], results[2], color='red', alpha=0.3)\n",
    "# plt.title('9-ion rabi oscillation after half speed shuttling', fontdict={'family': 'STIXGeneral', 'size': 12})\n",
    "plt.xlabel(r'Time (µs)', fontdict={'family': 'STIXGeneral', 'size': 12})\n",
    "plt.ylabel(r'Excitation', fontdict={'family': 'STIXGeneral', 'size': 12})\n",
    "plt.ylim(-0.05, 1.05)\n",
    "plt.xlim(-10, 170)\n",
    "# plt.legend(loc='lower right')\n",
    "# plt.legend()\n",
    "plt.grid(True)\n",
    "plt.savefig('./outputs/shuttling/Rabi_9_ions_no_shuttling.pdf', format='pdf', bbox_inches='tight')\n",
    "plt.show()"
   ]
  },
  {
   "cell_type": "markdown",
   "metadata": {},
   "source": [
    "# Shuttling data with 4.759 kHz shuttling speed"
   ]
  },
  {
   "cell_type": "code",
   "execution_count": 41,
   "metadata": {},
   "outputs": [
    {
     "name": "stdout",
     "output_type": "stream",
     "text": [
      "Datasets available: ['fit_signal', 'pmt_counts', 'pmt_counts_avg_thresholded', 'rabi_t']\n"
     ]
    },
    {
     "name": "stderr",
     "output_type": "stream",
     "text": [
      "/Users/QUBIT/Library/CloudStorage/OneDrive-Personal/UCB STUDY/Research/Multiplexing/multiplexing/lib/python3.9/site-packages/scipy/special/_orthogonal.py:133: RuntimeWarning: invalid value encountered in multiply\n",
      "  np.poly1d.__init__(self, poly.coeffs * float(kn))\n",
      "/Users/QUBIT/Library/CloudStorage/OneDrive-Personal/UCB STUDY/Research/Multiplexing/multiplexing/lib/python3.9/site-packages/scipy/special/_orthogonal.py:119: RuntimeWarning: divide by zero encountered in scalar divide\n",
      "  equiv_weights = [weights[k] / wfunc(roots[k]) for\n",
      "/Users/QUBIT/Library/CloudStorage/OneDrive-Personal/UCB STUDY/Research/Multiplexing/multiplexing/lib/python3.9/site-packages/scipy/special/_orthogonal.py:119: RuntimeWarning: invalid value encountered in scalar divide\n",
      "  equiv_weights = [weights[k] / wfunc(roots[k]) for\n",
      "/Users/QUBIT/Library/CloudStorage/OneDrive-Personal/UCB STUDY/Research/Multiplexing/multiplexing/lib/python3.9/site-packages/scipy/special/_orthogonal.py:571: RuntimeWarning: overflow encountered in multiply\n",
      "  - (n + alpha) * _ufuncs.eval_genlaguerre(n - 1, alpha, x)) / x\n",
      "/Users/QUBIT/Library/CloudStorage/OneDrive-Personal/UCB STUDY/Research/Multiplexing/multiplexing/lib/python3.9/site-packages/scipy/special/_orthogonal.py:192: RuntimeWarning: invalid value encountered in divide\n",
      "  dy /= np.exp((log_dy.max() + log_dy.min()) / 2.)\n",
      "/Users/QUBIT/Library/CloudStorage/OneDrive-Personal/UCB STUDY/Research/Multiplexing/multiplexing/lib/python3.9/site-packages/scipy/special/_orthogonal.py:193: RuntimeWarning: divide by zero encountered in divide\n",
      "  w = 1.0 / (fm * dy)\n"
     ]
    },
    {
     "name": "stdout",
     "output_type": "stream",
     "text": [
      "Fitted parameters:\n",
      "rabi =  0.09000000000000001\n",
      "nbar =  5.947489358047152\n",
      "nalpha =  142.41350044870174\n"
     ]
    }
   ],
   "source": [
    "n_samples = 50\n",
    "\n",
    "# Specify the data path and file details\n",
    "data_path = \"/Users/QUBIT/Library/CloudStorage/OneDrive-Personal/UCB STUDY/Research/Multiplexing/artiq_working_dir - 20240329/\"\n",
    "date = \"2024-10-27/\"\n",
    "index = \"19\"\n",
    "number = 30444\n",
    "\n",
    "rabi_t, pmt_counts_avg_thresholded, times = file_loading(data_path, date, index, number)\n",
    "rabi_t = np.array(rabi_t)  # Convert list to numpy array if not already\n",
    "pmt_counts_avg_thresholded = np.array(pmt_counts_avg_thresholded)\n",
    "\n",
    "# Remove unwanted indices if needed\n",
    "indices_to_remove = []  # Added 12 to the list\n",
    "keep_indices = np.ones(len(rabi_t), dtype=bool)  # Initially set all to True\n",
    "keep_indices[indices_to_remove] = False\n",
    "rabi_t = rabi_t[keep_indices]\n",
    "pmt_counts_avg_thresholded = pmt_counts_avg_thresholded[keep_indices]\n",
    "\n",
    "# Data re-scaling\n",
    "errorbar = (np.sqrt(pmt_counts_avg_thresholded) / np.sqrt(n_samples)) / np.max(pmt_counts_avg_thresholded)\n",
    "pmt_counts_avg_thresholded = np.max(pmt_counts_avg_thresholded) - pmt_counts_avg_thresholded\n",
    "pmt_counts_avg_thresholded = pmt_counts_avg_thresholded / np.max(pmt_counts_avg_thresholded) / 1.3\n",
    "\n",
    "# Initial guesses\n",
    "# initial_guess = [0.09832203238100552, 0, 100]  # [rabi, nbar, nalpha]\n",
    "# bounds = ((0.05, 0, 0), (0.15, 30, 1))  # Modified upper bound for nalpha to 5\n",
    "bounds = ((0.09, 0, 10), (0.11, 30, 300))\n",
    "# bounds = ((0.0, 0, 0), (0.15, np.inf, np.inf))\n",
    "# Initial guess is the center of the bounds\n",
    "initial_guess = [(bounds[0][0] + bounds[1][0]) / 2, (bounds[0][1] + bounds[1][1]) / 2, (bounds[0][2] + bounds[1][2]) / 2]\n",
    "\n",
    "# Perform the curve fitting\n",
    "popt, pcov = curve_fit(fit_model, rabi_t, pmt_counts_avg_thresholded, p0=initial_guess, bounds=bounds)\n",
    "fitted_rabi, fitted_nbar, fitted_nalpha = popt\n",
    "\n",
    "print(\"Fitted parameters:\")\n",
    "print(\"rabi = \", fitted_rabi)\n",
    "print(\"nbar = \", fitted_nbar)\n",
    "print(\"nalpha = \", fitted_nalpha)"
   ]
  },
  {
   "cell_type": "code",
   "execution_count": 42,
   "metadata": {},
   "outputs": [
    {
     "data": {
      "image/png": "[encoded data removed]",
      "text/plain": [
       "<Figure size 283x283 with 1 Axes>"
      ]
     },
     "metadata": {},
     "output_type": "display_data"
    }
   ],
   "source": [
    "# Running simulation\n",
    "# rabi =  fitted_rabi\n",
    "rabi = fitted_rabi\n",
    "nbar =  fitted_nbar\n",
    "# n_ions = 9\n",
    "# N = 400\n",
    "nalpha = fitted_nalpha\n",
    "\n",
    "# You already have these lines in your code\n",
    "time = np.linspace(np.min(times), np.max(times), 200)\n",
    "\n",
    "# Running simulation for different nalpha values\n",
    "nbars = [nbar - 3, nbar, nbar + 3]\n",
    "results = []\n",
    "\n",
    "for nbar in nbars:\n",
    "    D_population, _ = pe_model_optimized(time, rabi_0_fit=rabi, nbar_fit=nbar, nalpha_fit=nalpha)\n",
    "    results.append(D_population)\n",
    "\n",
    "import os\n",
    "# Create outputs directory if it doesn't exist\n",
    "os.makedirs(\"./outputs/shuttling/\", exist_ok=True)\n",
    "\n",
    "np.save(\"./data/save_rabi_t_shuttling_static.npy\", rabi_t)\n",
    "np.save(\"./data/save_pmt_counts_avg_thresholded_shuttling_static.npy\", pmt_counts_avg_thresholded)\n",
    "np.save(\"./data/save_rabi_t_shuttling_static_simulation.npy\", time)\n",
    "np.save(\"./data/save_pmt_counts_avg_thresholded_shuttling_static_simulation.npy\", results)\n",
    "\n",
    "rabi_t = np.load(\"./data/save_rabi_t_shuttling_static.npy\")\n",
    "pmt_counts_avg_thresholded = np.load(\"./data/save_pmt_counts_avg_thresholded_shuttling_static.npy\")\n",
    "time = np.load(\"./data/save_rabi_t_shuttling_static_simulation.npy\")\n",
    "results = np.load(\"./data/save_pmt_counts_avg_thresholded_shuttling_static_simulation.npy\")\n",
    "\n",
    "# Plotting\n",
    "plt.figure(figsize=(2.83, 2.83))\n",
    "errorbar = np.sqrt(pmt_counts_avg_thresholded * (1 - pmt_counts_avg_thresholded)) / np.sqrt(n_samples)\n",
    "plt.errorbar(rabi_t[:], pmt_counts_avg_thresholded[:], yerr=errorbar[:], fmt='o', c='red', lw=2, zorder=2, label='Data')\n",
    "# plt.scatter(rabi_t[:], pmt_counts_avg_thresholded[:], c='red', s=30, zorder=2, label='Data')\n",
    "# plt.errorbar(rabi_t[:], pmt_counts_avg_thresholded[:], yerr=errorbar[:], fmt='o', c='C0', lw=1, zorder=2, label='Data')\n",
    "plt.plot(time, results[1], c='red', lw=3, zorder=3, label=f'$\\\\bar{{n}}_{{th}} = {np.average(nbars):.1f} \\\\pm {(np.average(nbars) - nbars[0]):.1f}$')\n",
    "plt.plot(time, results[0], '--', c='red', lw=0.5, zorder=1, alpha=0.1)\n",
    "plt.plot(time, results[2], '--', c='red', lw=0.5, zorder=1, alpha=0.1)\n",
    "# plt.fill_between(time, results[0], results[2], color='red', alpha=0.3)\n",
    "# plt.title('9-ion rabi oscillation after half speed shuttling', fontdict={'family': 'STIXGeneral', 'size': 12})\n",
    "plt.xlabel(r'Time (µs)', fontdict={'family': 'STIXGeneral', 'size': 12})\n",
    "plt.ylabel(r'Excitation', fontdict={'family': 'STIXGeneral', 'size': 12})\n",
    "plt.ylim(-0.05, 1.05)\n",
    "plt.xlim(-10, 170)\n",
    "# plt.legend(loc='lower right')\n",
    "# plt.legend()\n",
    "plt.grid(True)\n",
    "plt.savefig('./outputs/shuttling/Rabi_9_ions_no_shuttling.pdf', format='pdf', bbox_inches='tight')\n",
    "plt.show()"
   ]
  },
  {
   "cell_type": "markdown",
   "metadata": {},
   "source": [
    "# Shuttling data with 4.5 kHz shuttling speed"
   ]
  },
  {
   "cell_type": "code",
   "execution_count": 43,
   "metadata": {},
   "outputs": [
    {
     "name": "stdout",
     "output_type": "stream",
     "text": [
      "Datasets available: ['fit_signal', 'pmt_counts', 'pmt_counts_avg_thresholded', 'rabi_t']\n"
     ]
    },
    {
     "name": "stderr",
     "output_type": "stream",
     "text": [
      "/Users/QUBIT/Library/CloudStorage/OneDrive-Personal/UCB STUDY/Research/Multiplexing/multiplexing/lib/python3.9/site-packages/scipy/special/_orthogonal.py:133: RuntimeWarning: invalid value encountered in multiply\n",
      "  np.poly1d.__init__(self, poly.coeffs * float(kn))\n",
      "/Users/QUBIT/Library/CloudStorage/OneDrive-Personal/UCB STUDY/Research/Multiplexing/multiplexing/lib/python3.9/site-packages/scipy/special/_orthogonal.py:119: RuntimeWarning: divide by zero encountered in scalar divide\n",
      "  equiv_weights = [weights[k] / wfunc(roots[k]) for\n",
      "/Users/QUBIT/Library/CloudStorage/OneDrive-Personal/UCB STUDY/Research/Multiplexing/multiplexing/lib/python3.9/site-packages/scipy/special/_orthogonal.py:119: RuntimeWarning: invalid value encountered in scalar divide\n",
      "  equiv_weights = [weights[k] / wfunc(roots[k]) for\n",
      "/Users/QUBIT/Library/CloudStorage/OneDrive-Personal/UCB STUDY/Research/Multiplexing/multiplexing/lib/python3.9/site-packages/scipy/special/_orthogonal.py:571: RuntimeWarning: overflow encountered in multiply\n",
      "  - (n + alpha) * _ufuncs.eval_genlaguerre(n - 1, alpha, x)) / x\n",
      "/Users/QUBIT/Library/CloudStorage/OneDrive-Personal/UCB STUDY/Research/Multiplexing/multiplexing/lib/python3.9/site-packages/scipy/special/_orthogonal.py:192: RuntimeWarning: invalid value encountered in divide\n",
      "  dy /= np.exp((log_dy.max() + log_dy.min()) / 2.)\n",
      "/Users/QUBIT/Library/CloudStorage/OneDrive-Personal/UCB STUDY/Research/Multiplexing/multiplexing/lib/python3.9/site-packages/scipy/special/_orthogonal.py:193: RuntimeWarning: divide by zero encountered in divide\n",
      "  w = 1.0 / (fm * dy)\n"
     ]
    },
    {
     "name": "stdout",
     "output_type": "stream",
     "text": [
      "Fitted parameters:\n",
      "rabi =  0.09000000000377846\n",
      "nbar =  1.770662802041944\n",
      "nalpha =  230.85008212327182\n"
     ]
    }
   ],
   "source": [
    "n_samples = 50\n",
    "\n",
    "# Specify the data path and file details\n",
    "data_path = \"/Users/QUBIT/Library/CloudStorage/OneDrive-Personal/UCB STUDY/Research/Multiplexing/artiq_working_dir - 20240329/\"\n",
    "date = \"2024-10-27/\"\n",
    "index = \"20\"\n",
    "number = 30576\n",
    "\n",
    "rabi_t, pmt_counts_avg_thresholded, times = file_loading(data_path, date, index, number)\n",
    "rabi_t = np.array(rabi_t)  # Convert list to numpy array if not already\n",
    "pmt_counts_avg_thresholded = np.array(pmt_counts_avg_thresholded)\n",
    "\n",
    "# Remove unwanted indices if needed\n",
    "indices_to_remove = []  # Added 12 to the list\n",
    "keep_indices = np.ones(len(rabi_t), dtype=bool)  # Initially set all to True\n",
    "keep_indices[indices_to_remove] = False\n",
    "rabi_t = rabi_t[keep_indices]\n",
    "pmt_counts_avg_thresholded = pmt_counts_avg_thresholded[keep_indices]\n",
    "\n",
    "# Data re-scaling\n",
    "errorbar = (np.sqrt(pmt_counts_avg_thresholded) / np.sqrt(n_samples)) / np.max(pmt_counts_avg_thresholded)\n",
    "pmt_counts_avg_thresholded = np.max(pmt_counts_avg_thresholded) - pmt_counts_avg_thresholded\n",
    "pmt_counts_avg_thresholded = pmt_counts_avg_thresholded / np.max(pmt_counts_avg_thresholded) / 1.3\n",
    "\n",
    "# Initial guesses\n",
    "# initial_guess = [0.09832203238100552, 0, 100]  # [rabi, nbar, nalpha]\n",
    "# bounds = ((0.05, 0, 0), (0.15, 30, 1))  # Modified upper bound for nalpha to 5\n",
    "bounds = ((0.09, 0, 10), (0.11, 30, 300))\n",
    "# bounds = ((0.0, 0, 0), (0.15, np.inf, np.inf))\n",
    "# Initial guess is the center of the bounds\n",
    "initial_guess = [(bounds[0][0] + bounds[1][0]) / 2, (bounds[0][1] + bounds[1][1]) / 2, (bounds[0][2] + bounds[1][2]) / 2]\n",
    "\n",
    "# Perform the curve fitting\n",
    "popt, pcov = curve_fit(fit_model, rabi_t, pmt_counts_avg_thresholded, p0=initial_guess, bounds=bounds)\n",
    "fitted_rabi, fitted_nbar, fitted_nalpha = popt\n",
    "\n",
    "print(\"Fitted parameters:\")\n",
    "print(\"rabi = \", fitted_rabi)\n",
    "print(\"nbar = \", fitted_nbar)\n",
    "print(\"nalpha = \", fitted_nalpha)"
   ]
  },
  {
   "cell_type": "code",
   "execution_count": 44,
   "metadata": {},
   "outputs": [
    {
     "data": {
      "image/png": "[encoded data removed]",
      "text/plain": [
       "<Figure size 283x283 with 1 Axes>"
      ]
     },
     "metadata": {},
     "output_type": "display_data"
    }
   ],
   "source": [
    "# Running simulation\n",
    "# rabi =  fitted_rabi\n",
    "rabi = fitted_rabi\n",
    "nbar =  fitted_nbar\n",
    "# n_ions = 9\n",
    "# N = 400\n",
    "nalpha = fitted_nalpha\n",
    "\n",
    "# You already have these lines in your code\n",
    "time = np.linspace(np.min(times), np.max(times), 200)\n",
    "\n",
    "# Running simulation for different nalpha values\n",
    "nbars = [nbar - 3, nbar, nbar + 3]\n",
    "results = []\n",
    "\n",
    "for nbar in nbars:\n",
    "    D_population, _ = pe_model_optimized(time, rabi_0_fit=rabi, nbar_fit=nbar, nalpha_fit=nalpha)\n",
    "    results.append(D_population)\n",
    "\n",
    "import os\n",
    "# Create outputs directory if it doesn't exist\n",
    "os.makedirs(\"./outputs/shuttling/\", exist_ok=True)\n",
    "\n",
    "np.save(\"./data/save_rabi_t_shuttling_static.npy\", rabi_t)\n",
    "np.save(\"./data/save_pmt_counts_avg_thresholded_shuttling_static.npy\", pmt_counts_avg_thresholded)\n",
    "np.save(\"./data/save_rabi_t_shuttling_static_simulation.npy\", time)\n",
    "np.save(\"./data/save_pmt_counts_avg_thresholded_shuttling_static_simulation.npy\", results)\n",
    "\n",
    "rabi_t = np.load(\"./data/save_rabi_t_shuttling_static.npy\")\n",
    "pmt_counts_avg_thresholded = np.load(\"./data/save_pmt_counts_avg_thresholded_shuttling_static.npy\")\n",
    "time = np.load(\"./data/save_rabi_t_shuttling_static_simulation.npy\")\n",
    "results = np.load(\"./data/save_pmt_counts_avg_thresholded_shuttling_static_simulation.npy\")\n",
    "\n",
    "# Plotting\n",
    "plt.figure(figsize=(2.83, 2.83))\n",
    "errorbar = np.sqrt(pmt_counts_avg_thresholded * (1 - pmt_counts_avg_thresholded)) / np.sqrt(n_samples)\n",
    "plt.errorbar(rabi_t[:], pmt_counts_avg_thresholded[:], yerr=errorbar[:], fmt='o', c='red', lw=2, zorder=2, label='Data')\n",
    "# plt.scatter(rabi_t[:], pmt_counts_avg_thresholded[:], c='red', s=30, zorder=2, label='Data')\n",
    "# plt.errorbar(rabi_t[:], pmt_counts_avg_thresholded[:], yerr=errorbar[:], fmt='o', c='C0', lw=1, zorder=2, label='Data')\n",
    "plt.plot(time, results[1], c='red', lw=3, zorder=3, label=f'$\\\\bar{{n}}_{{th}} = {np.average(nbars):.1f} \\\\pm {(np.average(nbars) - nbars[0]):.1f}$')\n",
    "plt.plot(time, results[0], '--', c='red', lw=0.5, zorder=1, alpha=0.1)\n",
    "plt.plot(time, results[2], '--', c='red', lw=0.5, zorder=1, alpha=0.1)\n",
    "# plt.fill_between(time, results[0], results[2], color='red', alpha=0.3)\n",
    "# plt.title('9-ion rabi oscillation after half speed shuttling', fontdict={'family': 'STIXGeneral', 'size': 12})\n",
    "plt.xlabel(r'Time (µs)', fontdict={'family': 'STIXGeneral', 'size': 12})\n",
    "plt.ylabel(r'Excitation', fontdict={'family': 'STIXGeneral', 'size': 12})\n",
    "plt.ylim(-0.05, 1.05)\n",
    "plt.xlim(-10, 170)\n",
    "# plt.legend(loc='lower right')\n",
    "# plt.legend()\n",
    "plt.grid(True)\n",
    "plt.savefig('./outputs/shuttling/Rabi_9_ions_no_shuttling.pdf', format='pdf', bbox_inches='tight')\n",
    "plt.show()"
   ]
  },
  {
   "cell_type": "markdown",
   "metadata": {},
   "source": [
    "# Shuttling data with 3.846 kHz shuttling speed"
   ]
  },
  {
   "cell_type": "code",
   "execution_count": 49,
   "metadata": {},
   "outputs": [
    {
     "name": "stdout",
     "output_type": "stream",
     "text": [
      "Datasets available: ['fit_signal', 'pmt_counts', 'pmt_counts_avg_thresholded', 'rabi_t']\n"
     ]
    },
    {
     "name": "stderr",
     "output_type": "stream",
     "text": [
      "/Users/QUBIT/Library/CloudStorage/OneDrive-Personal/UCB STUDY/Research/Multiplexing/multiplexing/lib/python3.9/site-packages/scipy/special/_orthogonal.py:133: RuntimeWarning: invalid value encountered in multiply\n",
      "  np.poly1d.__init__(self, poly.coeffs * float(kn))\n",
      "/Users/QUBIT/Library/CloudStorage/OneDrive-Personal/UCB STUDY/Research/Multiplexing/multiplexing/lib/python3.9/site-packages/scipy/special/_orthogonal.py:119: RuntimeWarning: divide by zero encountered in scalar divide\n",
      "  equiv_weights = [weights[k] / wfunc(roots[k]) for\n",
      "/Users/QUBIT/Library/CloudStorage/OneDrive-Personal/UCB STUDY/Research/Multiplexing/multiplexing/lib/python3.9/site-packages/scipy/special/_orthogonal.py:119: RuntimeWarning: invalid value encountered in scalar divide\n",
      "  equiv_weights = [weights[k] / wfunc(roots[k]) for\n",
      "/Users/QUBIT/Library/CloudStorage/OneDrive-Personal/UCB STUDY/Research/Multiplexing/multiplexing/lib/python3.9/site-packages/scipy/special/_orthogonal.py:571: RuntimeWarning: overflow encountered in multiply\n",
      "  - (n + alpha) * _ufuncs.eval_genlaguerre(n - 1, alpha, x)) / x\n",
      "/Users/QUBIT/Library/CloudStorage/OneDrive-Personal/UCB STUDY/Research/Multiplexing/multiplexing/lib/python3.9/site-packages/scipy/special/_orthogonal.py:192: RuntimeWarning: invalid value encountered in divide\n",
      "  dy /= np.exp((log_dy.max() + log_dy.min()) / 2.)\n",
      "/Users/QUBIT/Library/CloudStorage/OneDrive-Personal/UCB STUDY/Research/Multiplexing/multiplexing/lib/python3.9/site-packages/scipy/special/_orthogonal.py:193: RuntimeWarning: divide by zero encountered in divide\n",
      "  w = 1.0 / (fm * dy)\n"
     ]
    },
    {
     "name": "stdout",
     "output_type": "stream",
     "text": [
      "Fitted parameters:\n",
      "rabi =  0.10999999999901375\n",
      "nbar =  1.6752530279901539\n",
      "nalpha =  152.67749696743826\n"
     ]
    }
   ],
   "source": [
    "n_samples = 50\n",
    "\n",
    "# Specify the data path and file details\n",
    "data_path = \"/Users/QUBIT/Library/CloudStorage/OneDrive-Personal/UCB STUDY/Research/Multiplexing/artiq_working_dir - 20240329/\"\n",
    "date = \"2024-10-27/\"\n",
    "index = \"19\"\n",
    "number = 30466\n",
    "\n",
    "rabi_t, pmt_counts_avg_thresholded, times = file_loading(data_path, date, index, number)\n",
    "rabi_t = np.array(rabi_t)  # Convert list to numpy array if not already\n",
    "pmt_counts_avg_thresholded = np.array(pmt_counts_avg_thresholded)\n",
    "\n",
    "# Remove unwanted indices if needed\n",
    "indices_to_remove = []  # Added 12 to the list\n",
    "keep_indices = np.ones(len(rabi_t), dtype=bool)  # Initially set all to True\n",
    "keep_indices[indices_to_remove] = False\n",
    "rabi_t = rabi_t[keep_indices]\n",
    "pmt_counts_avg_thresholded = pmt_counts_avg_thresholded[keep_indices]\n",
    "\n",
    "# Data re-scaling\n",
    "errorbar = (np.sqrt(pmt_counts_avg_thresholded) / np.sqrt(n_samples)) / np.max(pmt_counts_avg_thresholded)\n",
    "pmt_counts_avg_thresholded = np.max(pmt_counts_avg_thresholded) - pmt_counts_avg_thresholded\n",
    "pmt_counts_avg_thresholded = pmt_counts_avg_thresholded / np.max(pmt_counts_avg_thresholded) / 1.1\n",
    "\n",
    "# Initial guesses\n",
    "# initial_guess = [0.09832203238100552, 0, 100]  # [rabi, nbar, nalpha]\n",
    "# bounds = ((0.05, 0, 0), (0.15, 30, 1))  # Modified upper bound for nalpha to 5\n",
    "bounds = ((0.09, 0, 10), (0.11, 2, 300))\n",
    "# bounds = ((0.0, 0, 0), (0.15, np.inf, np.inf))\n",
    "# Initial guess is the center of the bounds\n",
    "initial_guess = [(bounds[0][0] + bounds[1][0]) / 2, (bounds[0][1] + bounds[1][1]) / 2, (bounds[0][2] + bounds[1][2]) / 2]\n",
    "\n",
    "# Perform the curve fitting\n",
    "popt, pcov = curve_fit(fit_model, rabi_t, pmt_counts_avg_thresholded, p0=initial_guess, bounds=bounds)\n",
    "fitted_rabi, fitted_nbar, fitted_nalpha = popt\n",
    "\n",
    "print(\"Fitted parameters:\")\n",
    "print(\"rabi = \", fitted_rabi)\n",
    "print(\"nbar = \", fitted_nbar)\n",
    "print(\"nalpha = \", fitted_nalpha)"
   ]
  },
  {
   "cell_type": "code",
   "execution_count": 50,
   "metadata": {},
   "outputs": [
    {
     "data": {
      "image/png": "[encoded data removed]",
      "text/plain": [
       "<Figure size 283x283 with 1 Axes>"
      ]
     },
     "metadata": {},
     "output_type": "display_data"
    }
   ],
   "source": [
    "# Running simulation\n",
    "# rabi =  fitted_rabi\n",
    "rabi = fitted_rabi\n",
    "nbar =  fitted_nbar\n",
    "# n_ions = 9\n",
    "# N = 400\n",
    "nalpha = fitted_nalpha\n",
    "\n",
    "# You already have these lines in your code\n",
    "time = np.linspace(np.min(times), np.max(times), 200)\n",
    "\n",
    "# Running simulation for different nalpha values\n",
    "nbars = [nbar - 3, nbar, nbar + 3]\n",
    "results = []\n",
    "\n",
    "for nbar in nbars:\n",
    "    D_population, _ = pe_model_optimized(time, rabi_0_fit=rabi, nbar_fit=nbar, nalpha_fit=nalpha)\n",
    "    results.append(D_population)\n",
    "\n",
    "import os\n",
    "# Create outputs directory if it doesn't exist\n",
    "os.makedirs(\"./outputs/shuttling/\", exist_ok=True)\n",
    "\n",
    "np.save(\"./data/save_rabi_t_shuttling_static.npy\", rabi_t)\n",
    "np.save(\"./data/save_pmt_counts_avg_thresholded_shuttling_static.npy\", pmt_counts_avg_thresholded)\n",
    "np.save(\"./data/save_rabi_t_shuttling_static_simulation.npy\", time)\n",
    "np.save(\"./data/save_pmt_counts_avg_thresholded_shuttling_static_simulation.npy\", results)\n",
    "\n",
    "rabi_t = np.load(\"./data/save_rabi_t_shuttling_static.npy\")\n",
    "pmt_counts_avg_thresholded = np.load(\"./data/save_pmt_counts_avg_thresholded_shuttling_static.npy\")\n",
    "time = np.load(\"./data/save_rabi_t_shuttling_static_simulation.npy\")\n",
    "results = np.load(\"./data/save_pmt_counts_avg_thresholded_shuttling_static_simulation.npy\")\n",
    "\n",
    "# Plotting\n",
    "plt.figure(figsize=(2.83, 2.83))\n",
    "errorbar = np.sqrt(pmt_counts_avg_thresholded * (1 - pmt_counts_avg_thresholded)) / np.sqrt(n_samples)\n",
    "plt.errorbar(rabi_t[:], pmt_counts_avg_thresholded[:], yerr=errorbar[:], fmt='o', c='red', lw=2, zorder=2, label='Data')\n",
    "# plt.scatter(rabi_t[:], pmt_counts_avg_thresholded[:], c='red', s=30, zorder=2, label='Data')\n",
    "# plt.errorbar(rabi_t[:], pmt_counts_avg_thresholded[:], yerr=errorbar[:], fmt='o', c='C0', lw=1, zorder=2, label='Data')\n",
    "plt.plot(time, results[1], c='red', lw=3, zorder=3, label=f'$\\\\bar{{n}}_{{th}} = {np.average(nbars):.1f} \\\\pm {(np.average(nbars) - nbars[0]):.1f}$')\n",
    "plt.plot(time, results[0], '--', c='red', lw=0.5, zorder=1, alpha=0.1)\n",
    "plt.plot(time, results[2], '--', c='red', lw=0.5, zorder=1, alpha=0.1)\n",
    "# plt.fill_between(time, results[0], results[2], color='red', alpha=0.3)\n",
    "# plt.title('9-ion rabi oscillation after half speed shuttling', fontdict={'family': 'STIXGeneral', 'size': 12})\n",
    "plt.xlabel(r'Time (µs)', fontdict={'family': 'STIXGeneral', 'size': 12})\n",
    "plt.ylabel(r'Excitation', fontdict={'family': 'STIXGeneral', 'size': 12})\n",
    "plt.ylim(-0.05, 1.05)\n",
    "plt.xlim(-10, 170)\n",
    "# plt.legend(loc='lower right')\n",
    "# plt.legend()\n",
    "plt.grid(True)\n",
    "plt.savefig('./outputs/shuttling/Rabi_9_ions_no_shuttling.pdf', format='pdf', bbox_inches='tight')\n",
    "plt.show()"
   ]
  },
  {
   "cell_type": "markdown",
   "metadata": {},
   "source": [
    "# Shuttling data with 5.0 kHz shuttling speed"
   ]
  },
  {
   "cell_type": "code",
   "execution_count": 53,
   "metadata": {},
   "outputs": [
    {
     "name": "stdout",
     "output_type": "stream",
     "text": [
      "Datasets available: ['fit_signal', 'pmt_counts', 'pmt_counts_avg_thresholded', 'rabi_t']\n"
     ]
    },
    {
     "name": "stderr",
     "output_type": "stream",
     "text": [
      "/Users/QUBIT/Library/CloudStorage/OneDrive-Personal/UCB STUDY/Research/Multiplexing/multiplexing/lib/python3.9/site-packages/scipy/special/_orthogonal.py:133: RuntimeWarning: invalid value encountered in multiply\n",
      "  np.poly1d.__init__(self, poly.coeffs * float(kn))\n",
      "/Users/QUBIT/Library/CloudStorage/OneDrive-Personal/UCB STUDY/Research/Multiplexing/multiplexing/lib/python3.9/site-packages/scipy/special/_orthogonal.py:119: RuntimeWarning: divide by zero encountered in scalar divide\n",
      "  equiv_weights = [weights[k] / wfunc(roots[k]) for\n",
      "/Users/QUBIT/Library/CloudStorage/OneDrive-Personal/UCB STUDY/Research/Multiplexing/multiplexing/lib/python3.9/site-packages/scipy/special/_orthogonal.py:119: RuntimeWarning: invalid value encountered in scalar divide\n",
      "  equiv_weights = [weights[k] / wfunc(roots[k]) for\n",
      "/Users/QUBIT/Library/CloudStorage/OneDrive-Personal/UCB STUDY/Research/Multiplexing/multiplexing/lib/python3.9/site-packages/scipy/special/_orthogonal.py:571: RuntimeWarning: overflow encountered in multiply\n",
      "  - (n + alpha) * _ufuncs.eval_genlaguerre(n - 1, alpha, x)) / x\n",
      "/Users/QUBIT/Library/CloudStorage/OneDrive-Personal/UCB STUDY/Research/Multiplexing/multiplexing/lib/python3.9/site-packages/scipy/special/_orthogonal.py:192: RuntimeWarning: invalid value encountered in divide\n",
      "  dy /= np.exp((log_dy.max() + log_dy.min()) / 2.)\n",
      "/Users/QUBIT/Library/CloudStorage/OneDrive-Personal/UCB STUDY/Research/Multiplexing/multiplexing/lib/python3.9/site-packages/scipy/special/_orthogonal.py:193: RuntimeWarning: divide by zero encountered in divide\n",
      "  w = 1.0 / (fm * dy)\n"
     ]
    }
   ],
   "source": [
    "n_samples = 50\n",
    "\n",
    "# Specify the data path and file details\n",
    "data_path = \"/Users/QUBIT/Library/CloudStorage/OneDrive-Personal/UCB STUDY/Research/Multiplexing/artiq_working_dir - 20240329/\"\n",
    "date = \"2024-10-27/\"\n",
    "index = \"19\"\n",
    "number = 30422\n",
    "\n",
    "rabi_t, pmt_counts_avg_thresholded, times = file_loading(data_path, date, index, number)\n",
    "rabi_t = np.array(rabi_t)  # Convert list to numpy array if not already\n",
    "pmt_counts_avg_thresholded = np.array(pmt_counts_avg_thresholded)\n",
    "\n",
    "# Remove unwanted indices if needed\n",
    "indices_to_remove = []  # Added 12 to the list\n",
    "keep_indices = np.ones(len(rabi_t), dtype=bool)  # Initially set all to True\n",
    "keep_indices[indices_to_remove] = False\n",
    "rabi_t = rabi_t[keep_indices]\n",
    "pmt_counts_avg_thresholded = pmt_counts_avg_thresholded[keep_indices]\n",
    "\n",
    "# Data re-scaling\n",
    "errorbar = (np.sqrt(pmt_counts_avg_thresholded) / np.sqrt(n_samples)) / np.max(pmt_counts_avg_thresholded)\n",
    "pmt_counts_avg_thresholded = np.max(pmt_counts_avg_thresholded) - pmt_counts_avg_thresholded\n",
    "pmt_counts_avg_thresholded = pmt_counts_avg_thresholded / np.max(pmt_counts_avg_thresholded) / 1.1\n",
    "\n",
    "# Initial guesses\n",
    "# initial_guess = [0.09832203238100552, 0, 100]  # [rabi, nbar, nalpha]\n",
    "# bounds = ((0.05, 0, 0), (0.15, 30, 1))  # Modified upper bound for nalpha to 5\n",
    "bounds = ((0.09, 0, 10), (0.11, 2, 300))\n",
    "# bounds = ((0.0, 0, 0), (0.15, np.inf, np.inf))\n",
    "# Initial guess is the center of the bounds\n",
    "initial_guess = [(bounds[0][0] + bounds[1][0]) / 2, (bounds[0][1] + bounds[1][1]) / 2, (bounds[0][2] + bounds[1][2]) / 2]\n",
    "\n",
    "# Perform the curve fitting\n",
    "popt, pcov = curve_fit(fit_model, rabi_t, pmt_counts_avg_thresholded, p0=initial_guess, bounds=bounds)\n",
    "fitted_rabi, fitted_nbar, fitted_nalpha = popt\n",
    "\n",
    "print(\"Fitted parameters:\")\n",
    "print(\"rabi = \", fitted_rabi)\n",
    "print(\"nbar = \", fitted_nbar)\n",
    "print(\"nalpha = \", fitted_nalpha)"
   ]
  },
  {
   "cell_type": "code",
   "execution_count": 52,
   "metadata": {},
   "outputs": [
    {
     "data": {
      "image/png": "[encoded data removed]",
      "text/plain": [
       "<Figure size 283x283 with 1 Axes>"
      ]
     },
     "metadata": {},
     "output_type": "display_data"
    }
   ],
   "source": [
    "# Running simulation\n",
    "# rabi =  fitted_rabi\n",
    "rabi = fitted_rabi\n",
    "nbar =  fitted_nbar\n",
    "# n_ions = 9\n",
    "# N = 400\n",
    "nalpha = fitted_nalpha\n",
    "\n",
    "# You already have these lines in your code\n",
    "time = np.linspace(np.min(times), np.max(times), 200)\n",
    "\n",
    "# Running simulation for different nalpha values\n",
    "nbars = [nbar - 3, nbar, nbar + 3]\n",
    "results = []\n",
    "\n",
    "for nbar in nbars:\n",
    "    D_population, _ = pe_model_optimized(time, rabi_0_fit=rabi, nbar_fit=nbar, nalpha_fit=nalpha)\n",
    "    results.append(D_population)\n",
    "\n",
    "import os\n",
    "# Create outputs directory if it doesn't exist\n",
    "os.makedirs(\"./outputs/shuttling/\", exist_ok=True)\n",
    "\n",
    "np.save(\"./data/save_rabi_t_shuttling_static.npy\", rabi_t)\n",
    "np.save(\"./data/save_pmt_counts_avg_thresholded_shuttling_static.npy\", pmt_counts_avg_thresholded)\n",
    "np.save(\"./data/save_rabi_t_shuttling_static_simulation.npy\", time)\n",
    "np.save(\"./data/save_pmt_counts_avg_thresholded_shuttling_static_simulation.npy\", results)\n",
    "\n",
    "rabi_t = np.load(\"./data/save_rabi_t_shuttling_static.npy\")\n",
    "pmt_counts_avg_thresholded = np.load(\"./data/save_pmt_counts_avg_thresholded_shuttling_static.npy\")\n",
    "time = np.load(\"./data/save_rabi_t_shuttling_static_simulation.npy\")\n",
    "results = np.load(\"./data/save_pmt_counts_avg_thresholded_shuttling_static_simulation.npy\")\n",
    "\n",
    "# Plotting\n",
    "plt.figure(figsize=(2.83, 2.83))\n",
    "errorbar = np.sqrt(pmt_counts_avg_thresholded * (1 - pmt_counts_avg_thresholded)) / np.sqrt(n_samples)\n",
    "plt.errorbar(rabi_t[:], pmt_counts_avg_thresholded[:], yerr=errorbar[:], fmt='o', c='red', lw=2, zorder=2, label='Data')\n",
    "# plt.scatter(rabi_t[:], pmt_counts_avg_thresholded[:], c='red', s=30, zorder=2, label='Data')\n",
    "# plt.errorbar(rabi_t[:], pmt_counts_avg_thresholded[:], yerr=errorbar[:], fmt='o', c='C0', lw=1, zorder=2, label='Data')\n",
    "plt.plot(time, results[1], c='red', lw=3, zorder=3, label=f'$\\\\bar{{n}}_{{th}} = {np.average(nbars):.1f} \\\\pm {(np.average(nbars) - nbars[0]):.1f}$')\n",
    "plt.plot(time, results[0], '--', c='red', lw=0.5, zorder=1, alpha=0.1)\n",
    "plt.plot(time, results[2], '--', c='red', lw=0.5, zorder=1, alpha=0.1)\n",
    "# plt.fill_between(time, results[0], results[2], color='red', alpha=0.3)\n",
    "# plt.title('9-ion rabi oscillation after half speed shuttling', fontdict={'family': 'STIXGeneral', 'size': 12})\n",
    "plt.xlabel(r'Time (µs)', fontdict={'family': 'STIXGeneral', 'size': 12})\n",
    "plt.ylabel(r'Excitation', fontdict={'family': 'STIXGeneral', 'size': 12})\n",
    "plt.ylim(-0.05, 1.05)\n",
    "plt.xlim(-10, 170)\n",
    "# plt.legend(loc='lower right')\n",
    "# plt.legend()\n",
    "plt.grid(True)\n",
    "plt.savefig('./outputs/shuttling/Rabi_9_ions_no_shuttling.pdf', format='pdf', bbox_inches='tight')\n",
    "plt.show()"
   ]
  },
  {
   "cell_type": "code",
   "execution_count": null,
   "metadata": {},
   "outputs": [],
   "source": []
  }
 ],
 "metadata": {
  "kernelspec": {
   "display_name": "multiplexing",
   "language": "python",
   "name": "python3"
  },
  "language_info": {
   "codemirror_mode": {
    "name": "ipython",
    "version": 3
   },
   "file_extension": ".py",
   "mimetype": "text/x-python",
   "name": "python",
   "nbconvert_exporter": "python",
   "pygments_lexer": "ipython3",
   "version": "3.9.6"
  }
 },
 "nbformat": 4,
 "nbformat_minor": 2
}
